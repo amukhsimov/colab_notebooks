{
  "nbformat": 4,
  "nbformat_minor": 0,
  "metadata": {
    "accelerator": "GPU",
    "colab": {
      "name": "ml-opus.ipynb",
      "provenance": [],
      "collapsed_sections": [
        "Ehg_QC_pbTM7",
        "7-vyFHke7dzw",
        "jCCgh1JNuyq4",
        "x1wL18ww32kR",
        "9o9G-qyvZZuc",
        "cTdqrY0yZd4x"
      ],
      "machine_shape": "hm",
      "authorship_tag": "ABX9TyNQyXSELRm2QXGKkoioHrs4",
      "include_colab_link": true
    },
    "kernelspec": {
      "display_name": "Python 3",
      "name": "python3"
    },
    "language_info": {
      "name": "python"
    },
    "widgets": {
      "application/vnd.jupyter.widget-state+json": {
        "d06eeafd47a540dd8d1ade7d1a4b3a80": {
          "model_module": "@jupyter-widgets/controls",
          "model_name": "HBoxModel",
          "model_module_version": "1.5.0",
          "state": {
            "_view_name": "HBoxView",
            "_dom_classes": [],
            "_model_name": "HBoxModel",
            "_view_module": "@jupyter-widgets/controls",
            "_model_module_version": "1.5.0",
            "_view_count": null,
            "_view_module_version": "1.5.0",
            "box_style": "",
            "layout": "IPY_MODEL_afd2b2c2485b459db5a5b893292bfeb6",
            "_model_module": "@jupyter-widgets/controls",
            "children": [
              "IPY_MODEL_eb721840f6ff4ccb906671fac9e6854a",
              "IPY_MODEL_620425f7b8f34d3ba35f4d3202da0c18",
              "IPY_MODEL_971de101dc1149aaafb1bf3c7001b60a"
            ]
          }
        },
        "afd2b2c2485b459db5a5b893292bfeb6": {
          "model_module": "@jupyter-widgets/base",
          "model_name": "LayoutModel",
          "model_module_version": "1.2.0",
          "state": {
            "_view_name": "LayoutView",
            "grid_template_rows": null,
            "right": null,
            "justify_content": null,
            "_view_module": "@jupyter-widgets/base",
            "overflow": null,
            "_model_module_version": "1.2.0",
            "_view_count": null,
            "flex_flow": null,
            "width": null,
            "min_width": null,
            "border": null,
            "align_items": null,
            "bottom": null,
            "_model_module": "@jupyter-widgets/base",
            "top": null,
            "grid_column": null,
            "overflow_y": null,
            "overflow_x": null,
            "grid_auto_flow": null,
            "grid_area": null,
            "grid_template_columns": null,
            "flex": null,
            "_model_name": "LayoutModel",
            "justify_items": null,
            "grid_row": null,
            "max_height": null,
            "align_content": null,
            "visibility": null,
            "align_self": null,
            "height": null,
            "min_height": null,
            "padding": null,
            "grid_auto_rows": null,
            "grid_gap": null,
            "max_width": null,
            "order": null,
            "_view_module_version": "1.2.0",
            "grid_template_areas": null,
            "object_position": null,
            "object_fit": null,
            "grid_auto_columns": null,
            "margin": null,
            "display": null,
            "left": null
          }
        },
        "eb721840f6ff4ccb906671fac9e6854a": {
          "model_module": "@jupyter-widgets/controls",
          "model_name": "HTMLModel",
          "model_module_version": "1.5.0",
          "state": {
            "_view_name": "HTMLView",
            "style": "IPY_MODEL_4f18f10fb4b34ef487693fd635ceb854",
            "_dom_classes": [],
            "description": "",
            "_model_name": "HTMLModel",
            "placeholder": "​",
            "_view_module": "@jupyter-widgets/controls",
            "_model_module_version": "1.5.0",
            "value": "Dl Completed...: 100%",
            "_view_count": null,
            "_view_module_version": "1.5.0",
            "description_tooltip": null,
            "_model_module": "@jupyter-widgets/controls",
            "layout": "IPY_MODEL_e475c07127af48dabf3431fa3444d659"
          }
        },
        "620425f7b8f34d3ba35f4d3202da0c18": {
          "model_module": "@jupyter-widgets/controls",
          "model_name": "FloatProgressModel",
          "model_module_version": "1.5.0",
          "state": {
            "_view_name": "ProgressView",
            "style": "IPY_MODEL_7e424836ff82486b9ae1e68587c25845",
            "_dom_classes": [],
            "description": "",
            "_model_name": "FloatProgressModel",
            "bar_style": "success",
            "max": 1,
            "_view_module": "@jupyter-widgets/controls",
            "_model_module_version": "1.5.0",
            "value": 1,
            "_view_count": null,
            "_view_module_version": "1.5.0",
            "orientation": "horizontal",
            "min": 0,
            "description_tooltip": null,
            "_model_module": "@jupyter-widgets/controls",
            "layout": "IPY_MODEL_990cece2e1f9472ab757e73f41d2935c"
          }
        },
        "971de101dc1149aaafb1bf3c7001b60a": {
          "model_module": "@jupyter-widgets/controls",
          "model_name": "HTMLModel",
          "model_module_version": "1.5.0",
          "state": {
            "_view_name": "HTMLView",
            "style": "IPY_MODEL_703b2e818ed542d1809b3b35445fe4bb",
            "_dom_classes": [],
            "description": "",
            "_model_name": "HTMLModel",
            "placeholder": "​",
            "_view_module": "@jupyter-widgets/controls",
            "_model_module_version": "1.5.0",
            "value": " 1/1 [00:08&lt;00:00,  4.53s/ url]",
            "_view_count": null,
            "_view_module_version": "1.5.0",
            "description_tooltip": null,
            "_model_module": "@jupyter-widgets/controls",
            "layout": "IPY_MODEL_4211679199ac445ebdad5b58d87b9e32"
          }
        },
        "4f18f10fb4b34ef487693fd635ceb854": {
          "model_module": "@jupyter-widgets/controls",
          "model_name": "DescriptionStyleModel",
          "model_module_version": "1.5.0",
          "state": {
            "_view_name": "StyleView",
            "_model_name": "DescriptionStyleModel",
            "description_width": "",
            "_view_module": "@jupyter-widgets/base",
            "_model_module_version": "1.5.0",
            "_view_count": null,
            "_view_module_version": "1.2.0",
            "_model_module": "@jupyter-widgets/controls"
          }
        },
        "e475c07127af48dabf3431fa3444d659": {
          "model_module": "@jupyter-widgets/base",
          "model_name": "LayoutModel",
          "model_module_version": "1.2.0",
          "state": {
            "_view_name": "LayoutView",
            "grid_template_rows": null,
            "right": null,
            "justify_content": null,
            "_view_module": "@jupyter-widgets/base",
            "overflow": null,
            "_model_module_version": "1.2.0",
            "_view_count": null,
            "flex_flow": null,
            "width": null,
            "min_width": null,
            "border": null,
            "align_items": null,
            "bottom": null,
            "_model_module": "@jupyter-widgets/base",
            "top": null,
            "grid_column": null,
            "overflow_y": null,
            "overflow_x": null,
            "grid_auto_flow": null,
            "grid_area": null,
            "grid_template_columns": null,
            "flex": null,
            "_model_name": "LayoutModel",
            "justify_items": null,
            "grid_row": null,
            "max_height": null,
            "align_content": null,
            "visibility": null,
            "align_self": null,
            "height": null,
            "min_height": null,
            "padding": null,
            "grid_auto_rows": null,
            "grid_gap": null,
            "max_width": null,
            "order": null,
            "_view_module_version": "1.2.0",
            "grid_template_areas": null,
            "object_position": null,
            "object_fit": null,
            "grid_auto_columns": null,
            "margin": null,
            "display": null,
            "left": null
          }
        },
        "7e424836ff82486b9ae1e68587c25845": {
          "model_module": "@jupyter-widgets/controls",
          "model_name": "ProgressStyleModel",
          "model_module_version": "1.5.0",
          "state": {
            "_view_name": "StyleView",
            "_model_name": "ProgressStyleModel",
            "description_width": "",
            "_view_module": "@jupyter-widgets/base",
            "_model_module_version": "1.5.0",
            "_view_count": null,
            "_view_module_version": "1.2.0",
            "bar_color": null,
            "_model_module": "@jupyter-widgets/controls"
          }
        },
        "990cece2e1f9472ab757e73f41d2935c": {
          "model_module": "@jupyter-widgets/base",
          "model_name": "LayoutModel",
          "model_module_version": "1.2.0",
          "state": {
            "_view_name": "LayoutView",
            "grid_template_rows": null,
            "right": null,
            "justify_content": null,
            "_view_module": "@jupyter-widgets/base",
            "overflow": null,
            "_model_module_version": "1.2.0",
            "_view_count": null,
            "flex_flow": null,
            "width": "20px",
            "min_width": null,
            "border": null,
            "align_items": null,
            "bottom": null,
            "_model_module": "@jupyter-widgets/base",
            "top": null,
            "grid_column": null,
            "overflow_y": null,
            "overflow_x": null,
            "grid_auto_flow": null,
            "grid_area": null,
            "grid_template_columns": null,
            "flex": null,
            "_model_name": "LayoutModel",
            "justify_items": null,
            "grid_row": null,
            "max_height": null,
            "align_content": null,
            "visibility": null,
            "align_self": null,
            "height": null,
            "min_height": null,
            "padding": null,
            "grid_auto_rows": null,
            "grid_gap": null,
            "max_width": null,
            "order": null,
            "_view_module_version": "1.2.0",
            "grid_template_areas": null,
            "object_position": null,
            "object_fit": null,
            "grid_auto_columns": null,
            "margin": null,
            "display": null,
            "left": null
          }
        },
        "703b2e818ed542d1809b3b35445fe4bb": {
          "model_module": "@jupyter-widgets/controls",
          "model_name": "DescriptionStyleModel",
          "model_module_version": "1.5.0",
          "state": {
            "_view_name": "StyleView",
            "_model_name": "DescriptionStyleModel",
            "description_width": "",
            "_view_module": "@jupyter-widgets/base",
            "_model_module_version": "1.5.0",
            "_view_count": null,
            "_view_module_version": "1.2.0",
            "_model_module": "@jupyter-widgets/controls"
          }
        },
        "4211679199ac445ebdad5b58d87b9e32": {
          "model_module": "@jupyter-widgets/base",
          "model_name": "LayoutModel",
          "model_module_version": "1.2.0",
          "state": {
            "_view_name": "LayoutView",
            "grid_template_rows": null,
            "right": null,
            "justify_content": null,
            "_view_module": "@jupyter-widgets/base",
            "overflow": null,
            "_model_module_version": "1.2.0",
            "_view_count": null,
            "flex_flow": null,
            "width": null,
            "min_width": null,
            "border": null,
            "align_items": null,
            "bottom": null,
            "_model_module": "@jupyter-widgets/base",
            "top": null,
            "grid_column": null,
            "overflow_y": null,
            "overflow_x": null,
            "grid_auto_flow": null,
            "grid_area": null,
            "grid_template_columns": null,
            "flex": null,
            "_model_name": "LayoutModel",
            "justify_items": null,
            "grid_row": null,
            "max_height": null,
            "align_content": null,
            "visibility": null,
            "align_self": null,
            "height": null,
            "min_height": null,
            "padding": null,
            "grid_auto_rows": null,
            "grid_gap": null,
            "max_width": null,
            "order": null,
            "_view_module_version": "1.2.0",
            "grid_template_areas": null,
            "object_position": null,
            "object_fit": null,
            "grid_auto_columns": null,
            "margin": null,
            "display": null,
            "left": null
          }
        },
        "1bd23c8c372f4d8eb28185232d65723c": {
          "model_module": "@jupyter-widgets/controls",
          "model_name": "HBoxModel",
          "model_module_version": "1.5.0",
          "state": {
            "_view_name": "HBoxView",
            "_dom_classes": [],
            "_model_name": "HBoxModel",
            "_view_module": "@jupyter-widgets/controls",
            "_model_module_version": "1.5.0",
            "_view_count": null,
            "_view_module_version": "1.5.0",
            "box_style": "",
            "layout": "IPY_MODEL_8b6ea09c13584597b3fc18a74bf86918",
            "_model_module": "@jupyter-widgets/controls",
            "children": [
              "IPY_MODEL_5f97e6b3b34541ac84ee3be25fd00d31",
              "IPY_MODEL_05c7a2ce8056479591746342fc5cbe31",
              "IPY_MODEL_d9dcff0393cd4d5897b15356e4bf6667"
            ]
          }
        },
        "8b6ea09c13584597b3fc18a74bf86918": {
          "model_module": "@jupyter-widgets/base",
          "model_name": "LayoutModel",
          "model_module_version": "1.2.0",
          "state": {
            "_view_name": "LayoutView",
            "grid_template_rows": null,
            "right": null,
            "justify_content": null,
            "_view_module": "@jupyter-widgets/base",
            "overflow": null,
            "_model_module_version": "1.2.0",
            "_view_count": null,
            "flex_flow": null,
            "width": null,
            "min_width": null,
            "border": null,
            "align_items": null,
            "bottom": null,
            "_model_module": "@jupyter-widgets/base",
            "top": null,
            "grid_column": null,
            "overflow_y": null,
            "overflow_x": null,
            "grid_auto_flow": null,
            "grid_area": null,
            "grid_template_columns": null,
            "flex": null,
            "_model_name": "LayoutModel",
            "justify_items": null,
            "grid_row": null,
            "max_height": null,
            "align_content": null,
            "visibility": null,
            "align_self": null,
            "height": null,
            "min_height": null,
            "padding": null,
            "grid_auto_rows": null,
            "grid_gap": null,
            "max_width": null,
            "order": null,
            "_view_module_version": "1.2.0",
            "grid_template_areas": null,
            "object_position": null,
            "object_fit": null,
            "grid_auto_columns": null,
            "margin": null,
            "display": null,
            "left": null
          }
        },
        "5f97e6b3b34541ac84ee3be25fd00d31": {
          "model_module": "@jupyter-widgets/controls",
          "model_name": "HTMLModel",
          "model_module_version": "1.5.0",
          "state": {
            "_view_name": "HTMLView",
            "style": "IPY_MODEL_29f22e5db42c4262ba6138c324712966",
            "_dom_classes": [],
            "description": "",
            "_model_name": "HTMLModel",
            "placeholder": "​",
            "_view_module": "@jupyter-widgets/controls",
            "_model_module_version": "1.5.0",
            "value": "Dl Size...: 100%",
            "_view_count": null,
            "_view_module_version": "1.5.0",
            "description_tooltip": null,
            "_model_module": "@jupyter-widgets/controls",
            "layout": "IPY_MODEL_4f49d298c40848e6b1d753eb7a7a9bc3"
          }
        },
        "05c7a2ce8056479591746342fc5cbe31": {
          "model_module": "@jupyter-widgets/controls",
          "model_name": "FloatProgressModel",
          "model_module_version": "1.5.0",
          "state": {
            "_view_name": "ProgressView",
            "style": "IPY_MODEL_4d9ed08f74c24e7dab64e0a80ed760c0",
            "_dom_classes": [],
            "description": "",
            "_model_name": "FloatProgressModel",
            "bar_style": "success",
            "max": 1,
            "_view_module": "@jupyter-widgets/controls",
            "_model_module_version": "1.5.0",
            "value": 1,
            "_view_count": null,
            "_view_module_version": "1.5.0",
            "orientation": "horizontal",
            "min": 0,
            "description_tooltip": null,
            "_model_module": "@jupyter-widgets/controls",
            "layout": "IPY_MODEL_19989db8c98d4569ac65cad7655f455e"
          }
        },
        "d9dcff0393cd4d5897b15356e4bf6667": {
          "model_module": "@jupyter-widgets/controls",
          "model_name": "HTMLModel",
          "model_module_version": "1.5.0",
          "state": {
            "_view_name": "HTMLView",
            "style": "IPY_MODEL_5ce40b5e538341f5919dbab6f1b36d58",
            "_dom_classes": [],
            "description": "",
            "_model_name": "HTMLModel",
            "placeholder": "​",
            "_view_module": "@jupyter-widgets/controls",
            "_model_module_version": "1.5.0",
            "value": " 124/124 [00:08&lt;00:00, 39.43 MiB/s]",
            "_view_count": null,
            "_view_module_version": "1.5.0",
            "description_tooltip": null,
            "_model_module": "@jupyter-widgets/controls",
            "layout": "IPY_MODEL_31a55c4a6ee0434f9ac18e92bfee9733"
          }
        },
        "29f22e5db42c4262ba6138c324712966": {
          "model_module": "@jupyter-widgets/controls",
          "model_name": "DescriptionStyleModel",
          "model_module_version": "1.5.0",
          "state": {
            "_view_name": "StyleView",
            "_model_name": "DescriptionStyleModel",
            "description_width": "",
            "_view_module": "@jupyter-widgets/base",
            "_model_module_version": "1.5.0",
            "_view_count": null,
            "_view_module_version": "1.2.0",
            "_model_module": "@jupyter-widgets/controls"
          }
        },
        "4f49d298c40848e6b1d753eb7a7a9bc3": {
          "model_module": "@jupyter-widgets/base",
          "model_name": "LayoutModel",
          "model_module_version": "1.2.0",
          "state": {
            "_view_name": "LayoutView",
            "grid_template_rows": null,
            "right": null,
            "justify_content": null,
            "_view_module": "@jupyter-widgets/base",
            "overflow": null,
            "_model_module_version": "1.2.0",
            "_view_count": null,
            "flex_flow": null,
            "width": null,
            "min_width": null,
            "border": null,
            "align_items": null,
            "bottom": null,
            "_model_module": "@jupyter-widgets/base",
            "top": null,
            "grid_column": null,
            "overflow_y": null,
            "overflow_x": null,
            "grid_auto_flow": null,
            "grid_area": null,
            "grid_template_columns": null,
            "flex": null,
            "_model_name": "LayoutModel",
            "justify_items": null,
            "grid_row": null,
            "max_height": null,
            "align_content": null,
            "visibility": null,
            "align_self": null,
            "height": null,
            "min_height": null,
            "padding": null,
            "grid_auto_rows": null,
            "grid_gap": null,
            "max_width": null,
            "order": null,
            "_view_module_version": "1.2.0",
            "grid_template_areas": null,
            "object_position": null,
            "object_fit": null,
            "grid_auto_columns": null,
            "margin": null,
            "display": null,
            "left": null
          }
        },
        "4d9ed08f74c24e7dab64e0a80ed760c0": {
          "model_module": "@jupyter-widgets/controls",
          "model_name": "ProgressStyleModel",
          "model_module_version": "1.5.0",
          "state": {
            "_view_name": "StyleView",
            "_model_name": "ProgressStyleModel",
            "description_width": "",
            "_view_module": "@jupyter-widgets/base",
            "_model_module_version": "1.5.0",
            "_view_count": null,
            "_view_module_version": "1.2.0",
            "bar_color": null,
            "_model_module": "@jupyter-widgets/controls"
          }
        },
        "19989db8c98d4569ac65cad7655f455e": {
          "model_module": "@jupyter-widgets/base",
          "model_name": "LayoutModel",
          "model_module_version": "1.2.0",
          "state": {
            "_view_name": "LayoutView",
            "grid_template_rows": null,
            "right": null,
            "justify_content": null,
            "_view_module": "@jupyter-widgets/base",
            "overflow": null,
            "_model_module_version": "1.2.0",
            "_view_count": null,
            "flex_flow": null,
            "width": "20px",
            "min_width": null,
            "border": null,
            "align_items": null,
            "bottom": null,
            "_model_module": "@jupyter-widgets/base",
            "top": null,
            "grid_column": null,
            "overflow_y": null,
            "overflow_x": null,
            "grid_auto_flow": null,
            "grid_area": null,
            "grid_template_columns": null,
            "flex": null,
            "_model_name": "LayoutModel",
            "justify_items": null,
            "grid_row": null,
            "max_height": null,
            "align_content": null,
            "visibility": null,
            "align_self": null,
            "height": null,
            "min_height": null,
            "padding": null,
            "grid_auto_rows": null,
            "grid_gap": null,
            "max_width": null,
            "order": null,
            "_view_module_version": "1.2.0",
            "grid_template_areas": null,
            "object_position": null,
            "object_fit": null,
            "grid_auto_columns": null,
            "margin": null,
            "display": null,
            "left": null
          }
        },
        "5ce40b5e538341f5919dbab6f1b36d58": {
          "model_module": "@jupyter-widgets/controls",
          "model_name": "DescriptionStyleModel",
          "model_module_version": "1.5.0",
          "state": {
            "_view_name": "StyleView",
            "_model_name": "DescriptionStyleModel",
            "description_width": "",
            "_view_module": "@jupyter-widgets/base",
            "_model_module_version": "1.5.0",
            "_view_count": null,
            "_view_module_version": "1.2.0",
            "_model_module": "@jupyter-widgets/controls"
          }
        },
        "31a55c4a6ee0434f9ac18e92bfee9733": {
          "model_module": "@jupyter-widgets/base",
          "model_name": "LayoutModel",
          "model_module_version": "1.2.0",
          "state": {
            "_view_name": "LayoutView",
            "grid_template_rows": null,
            "right": null,
            "justify_content": null,
            "_view_module": "@jupyter-widgets/base",
            "overflow": null,
            "_model_module_version": "1.2.0",
            "_view_count": null,
            "flex_flow": null,
            "width": null,
            "min_width": null,
            "border": null,
            "align_items": null,
            "bottom": null,
            "_model_module": "@jupyter-widgets/base",
            "top": null,
            "grid_column": null,
            "overflow_y": null,
            "overflow_x": null,
            "grid_auto_flow": null,
            "grid_area": null,
            "grid_template_columns": null,
            "flex": null,
            "_model_name": "LayoutModel",
            "justify_items": null,
            "grid_row": null,
            "max_height": null,
            "align_content": null,
            "visibility": null,
            "align_self": null,
            "height": null,
            "min_height": null,
            "padding": null,
            "grid_auto_rows": null,
            "grid_gap": null,
            "max_width": null,
            "order": null,
            "_view_module_version": "1.2.0",
            "grid_template_areas": null,
            "object_position": null,
            "object_fit": null,
            "grid_auto_columns": null,
            "margin": null,
            "display": null,
            "left": null
          }
        },
        "8b73c4cb0b944472a592c7ac7fb41eea": {
          "model_module": "@jupyter-widgets/controls",
          "model_name": "HBoxModel",
          "model_module_version": "1.5.0",
          "state": {
            "_view_name": "HBoxView",
            "_dom_classes": [],
            "_model_name": "HBoxModel",
            "_view_module": "@jupyter-widgets/controls",
            "_model_module_version": "1.5.0",
            "_view_count": null,
            "_view_module_version": "1.5.0",
            "box_style": "",
            "layout": "IPY_MODEL_0e44e989d1d740af8970cac36866bd9a",
            "_model_module": "@jupyter-widgets/controls",
            "children": [
              "IPY_MODEL_dd25c7f7658941a3b4c294be60a10e05",
              "IPY_MODEL_752a6e852ecb43f5944daec8999d82a3",
              "IPY_MODEL_84eb76c996674639ad09f409ba3406ee"
            ]
          }
        },
        "0e44e989d1d740af8970cac36866bd9a": {
          "model_module": "@jupyter-widgets/base",
          "model_name": "LayoutModel",
          "model_module_version": "1.2.0",
          "state": {
            "_view_name": "LayoutView",
            "grid_template_rows": null,
            "right": null,
            "justify_content": null,
            "_view_module": "@jupyter-widgets/base",
            "overflow": null,
            "_model_module_version": "1.2.0",
            "_view_count": null,
            "flex_flow": null,
            "width": null,
            "min_width": null,
            "border": null,
            "align_items": null,
            "bottom": null,
            "_model_module": "@jupyter-widgets/base",
            "top": null,
            "grid_column": null,
            "overflow_y": null,
            "overflow_x": null,
            "grid_auto_flow": null,
            "grid_area": null,
            "grid_template_columns": null,
            "flex": null,
            "_model_name": "LayoutModel",
            "justify_items": null,
            "grid_row": null,
            "max_height": null,
            "align_content": null,
            "visibility": null,
            "align_self": null,
            "height": null,
            "min_height": null,
            "padding": null,
            "grid_auto_rows": null,
            "grid_gap": null,
            "max_width": null,
            "order": null,
            "_view_module_version": "1.2.0",
            "grid_template_areas": null,
            "object_position": null,
            "object_fit": null,
            "grid_auto_columns": null,
            "margin": null,
            "display": null,
            "left": null
          }
        },
        "dd25c7f7658941a3b4c294be60a10e05": {
          "model_module": "@jupyter-widgets/controls",
          "model_name": "HTMLModel",
          "model_module_version": "1.5.0",
          "state": {
            "_view_name": "HTMLView",
            "style": "IPY_MODEL_ba0e8b49fd9940b89d4efcbc54d25138",
            "_dom_classes": [],
            "description": "",
            "_model_name": "HTMLModel",
            "placeholder": "​",
            "_view_module": "@jupyter-widgets/controls",
            "_model_module_version": "1.5.0",
            "value": "Extraction completed...: 100%",
            "_view_count": null,
            "_view_module_version": "1.5.0",
            "description_tooltip": null,
            "_model_module": "@jupyter-widgets/controls",
            "layout": "IPY_MODEL_d6fa924bb29a473a9158907cfa9e8413"
          }
        },
        "752a6e852ecb43f5944daec8999d82a3": {
          "model_module": "@jupyter-widgets/controls",
          "model_name": "FloatProgressModel",
          "model_module_version": "1.5.0",
          "state": {
            "_view_name": "ProgressView",
            "style": "IPY_MODEL_a2450378286d48d0b85641252cbc0782",
            "_dom_classes": [],
            "description": "",
            "_model_name": "FloatProgressModel",
            "bar_style": "success",
            "max": 1,
            "_view_module": "@jupyter-widgets/controls",
            "_model_module_version": "1.5.0",
            "value": 1,
            "_view_count": null,
            "_view_module_version": "1.5.0",
            "orientation": "horizontal",
            "min": 0,
            "description_tooltip": null,
            "_model_module": "@jupyter-widgets/controls",
            "layout": "IPY_MODEL_6936f59e7e234ac6a1cf30aa0a68076d"
          }
        },
        "84eb76c996674639ad09f409ba3406ee": {
          "model_module": "@jupyter-widgets/controls",
          "model_name": "HTMLModel",
          "model_module_version": "1.5.0",
          "state": {
            "_view_name": "HTMLView",
            "style": "IPY_MODEL_d624745ef6cb4f928f5de0c72626fbea",
            "_dom_classes": [],
            "description": "",
            "_model_name": "HTMLModel",
            "placeholder": "​",
            "_view_module": "@jupyter-widgets/controls",
            "_model_module_version": "1.5.0",
            "value": " 1/1 [00:08&lt;00:00,  8.10s/ file]",
            "_view_count": null,
            "_view_module_version": "1.5.0",
            "description_tooltip": null,
            "_model_module": "@jupyter-widgets/controls",
            "layout": "IPY_MODEL_8b8ac006568545358e3622f5224c67d1"
          }
        },
        "ba0e8b49fd9940b89d4efcbc54d25138": {
          "model_module": "@jupyter-widgets/controls",
          "model_name": "DescriptionStyleModel",
          "model_module_version": "1.5.0",
          "state": {
            "_view_name": "StyleView",
            "_model_name": "DescriptionStyleModel",
            "description_width": "",
            "_view_module": "@jupyter-widgets/base",
            "_model_module_version": "1.5.0",
            "_view_count": null,
            "_view_module_version": "1.2.0",
            "_model_module": "@jupyter-widgets/controls"
          }
        },
        "d6fa924bb29a473a9158907cfa9e8413": {
          "model_module": "@jupyter-widgets/base",
          "model_name": "LayoutModel",
          "model_module_version": "1.2.0",
          "state": {
            "_view_name": "LayoutView",
            "grid_template_rows": null,
            "right": null,
            "justify_content": null,
            "_view_module": "@jupyter-widgets/base",
            "overflow": null,
            "_model_module_version": "1.2.0",
            "_view_count": null,
            "flex_flow": null,
            "width": null,
            "min_width": null,
            "border": null,
            "align_items": null,
            "bottom": null,
            "_model_module": "@jupyter-widgets/base",
            "top": null,
            "grid_column": null,
            "overflow_y": null,
            "overflow_x": null,
            "grid_auto_flow": null,
            "grid_area": null,
            "grid_template_columns": null,
            "flex": null,
            "_model_name": "LayoutModel",
            "justify_items": null,
            "grid_row": null,
            "max_height": null,
            "align_content": null,
            "visibility": null,
            "align_self": null,
            "height": null,
            "min_height": null,
            "padding": null,
            "grid_auto_rows": null,
            "grid_gap": null,
            "max_width": null,
            "order": null,
            "_view_module_version": "1.2.0",
            "grid_template_areas": null,
            "object_position": null,
            "object_fit": null,
            "grid_auto_columns": null,
            "margin": null,
            "display": null,
            "left": null
          }
        },
        "a2450378286d48d0b85641252cbc0782": {
          "model_module": "@jupyter-widgets/controls",
          "model_name": "ProgressStyleModel",
          "model_module_version": "1.5.0",
          "state": {
            "_view_name": "StyleView",
            "_model_name": "ProgressStyleModel",
            "description_width": "",
            "_view_module": "@jupyter-widgets/base",
            "_model_module_version": "1.5.0",
            "_view_count": null,
            "_view_module_version": "1.2.0",
            "bar_color": null,
            "_model_module": "@jupyter-widgets/controls"
          }
        },
        "6936f59e7e234ac6a1cf30aa0a68076d": {
          "model_module": "@jupyter-widgets/base",
          "model_name": "LayoutModel",
          "model_module_version": "1.2.0",
          "state": {
            "_view_name": "LayoutView",
            "grid_template_rows": null,
            "right": null,
            "justify_content": null,
            "_view_module": "@jupyter-widgets/base",
            "overflow": null,
            "_model_module_version": "1.2.0",
            "_view_count": null,
            "flex_flow": null,
            "width": "20px",
            "min_width": null,
            "border": null,
            "align_items": null,
            "bottom": null,
            "_model_module": "@jupyter-widgets/base",
            "top": null,
            "grid_column": null,
            "overflow_y": null,
            "overflow_x": null,
            "grid_auto_flow": null,
            "grid_area": null,
            "grid_template_columns": null,
            "flex": null,
            "_model_name": "LayoutModel",
            "justify_items": null,
            "grid_row": null,
            "max_height": null,
            "align_content": null,
            "visibility": null,
            "align_self": null,
            "height": null,
            "min_height": null,
            "padding": null,
            "grid_auto_rows": null,
            "grid_gap": null,
            "max_width": null,
            "order": null,
            "_view_module_version": "1.2.0",
            "grid_template_areas": null,
            "object_position": null,
            "object_fit": null,
            "grid_auto_columns": null,
            "margin": null,
            "display": null,
            "left": null
          }
        },
        "d624745ef6cb4f928f5de0c72626fbea": {
          "model_module": "@jupyter-widgets/controls",
          "model_name": "DescriptionStyleModel",
          "model_module_version": "1.5.0",
          "state": {
            "_view_name": "StyleView",
            "_model_name": "DescriptionStyleModel",
            "description_width": "",
            "_view_module": "@jupyter-widgets/base",
            "_model_module_version": "1.5.0",
            "_view_count": null,
            "_view_module_version": "1.2.0",
            "_model_module": "@jupyter-widgets/controls"
          }
        },
        "8b8ac006568545358e3622f5224c67d1": {
          "model_module": "@jupyter-widgets/base",
          "model_name": "LayoutModel",
          "model_module_version": "1.2.0",
          "state": {
            "_view_name": "LayoutView",
            "grid_template_rows": null,
            "right": null,
            "justify_content": null,
            "_view_module": "@jupyter-widgets/base",
            "overflow": null,
            "_model_module_version": "1.2.0",
            "_view_count": null,
            "flex_flow": null,
            "width": null,
            "min_width": null,
            "border": null,
            "align_items": null,
            "bottom": null,
            "_model_module": "@jupyter-widgets/base",
            "top": null,
            "grid_column": null,
            "overflow_y": null,
            "overflow_x": null,
            "grid_auto_flow": null,
            "grid_area": null,
            "grid_template_columns": null,
            "flex": null,
            "_model_name": "LayoutModel",
            "justify_items": null,
            "grid_row": null,
            "max_height": null,
            "align_content": null,
            "visibility": null,
            "align_self": null,
            "height": null,
            "min_height": null,
            "padding": null,
            "grid_auto_rows": null,
            "grid_gap": null,
            "max_width": null,
            "order": null,
            "_view_module_version": "1.2.0",
            "grid_template_areas": null,
            "object_position": null,
            "object_fit": null,
            "grid_auto_columns": null,
            "margin": null,
            "display": null,
            "left": null
          }
        },
        "67b1dc871e7e430f8d216fcaec746529": {
          "model_module": "@jupyter-widgets/controls",
          "model_name": "HBoxModel",
          "model_module_version": "1.5.0",
          "state": {
            "_view_name": "HBoxView",
            "_dom_classes": [],
            "_model_name": "HBoxModel",
            "_view_module": "@jupyter-widgets/controls",
            "_model_module_version": "1.5.0",
            "_view_count": null,
            "_view_module_version": "1.5.0",
            "box_style": "",
            "layout": "IPY_MODEL_305fab4b66dd4098955e31205698c08a",
            "_model_module": "@jupyter-widgets/controls",
            "children": [
              "IPY_MODEL_52e07f62d8084b2492d09fd2daeec50c",
              "IPY_MODEL_aa8b08082c6d4b519a194e4ddc96596e",
              "IPY_MODEL_511b948879b1458ba97e4560a30bf534"
            ]
          }
        },
        "305fab4b66dd4098955e31205698c08a": {
          "model_module": "@jupyter-widgets/base",
          "model_name": "LayoutModel",
          "model_module_version": "1.2.0",
          "state": {
            "_view_name": "LayoutView",
            "grid_template_rows": null,
            "right": null,
            "justify_content": null,
            "_view_module": "@jupyter-widgets/base",
            "overflow": null,
            "_model_module_version": "1.2.0",
            "_view_count": null,
            "flex_flow": null,
            "width": null,
            "min_width": null,
            "border": null,
            "align_items": null,
            "bottom": null,
            "_model_module": "@jupyter-widgets/base",
            "top": null,
            "grid_column": null,
            "overflow_y": null,
            "overflow_x": null,
            "grid_auto_flow": null,
            "grid_area": null,
            "grid_template_columns": null,
            "flex": null,
            "_model_name": "LayoutModel",
            "justify_items": null,
            "grid_row": null,
            "max_height": null,
            "align_content": null,
            "visibility": null,
            "align_self": null,
            "height": null,
            "min_height": null,
            "padding": null,
            "grid_auto_rows": null,
            "grid_gap": null,
            "max_width": null,
            "order": null,
            "_view_module_version": "1.2.0",
            "grid_template_areas": null,
            "object_position": null,
            "object_fit": null,
            "grid_auto_columns": null,
            "margin": null,
            "display": null,
            "left": null
          }
        },
        "52e07f62d8084b2492d09fd2daeec50c": {
          "model_module": "@jupyter-widgets/controls",
          "model_name": "HTMLModel",
          "model_module_version": "1.5.0",
          "state": {
            "_view_name": "HTMLView",
            "style": "IPY_MODEL_34fcc917a0f54b9a869c273392798bb8",
            "_dom_classes": [],
            "description": "",
            "_model_name": "HTMLModel",
            "placeholder": "​",
            "_view_module": "@jupyter-widgets/controls",
            "_model_module_version": "1.5.0",
            "value": "",
            "_view_count": null,
            "_view_module_version": "1.5.0",
            "description_tooltip": null,
            "_model_module": "@jupyter-widgets/controls",
            "layout": "IPY_MODEL_8777bd7b5a4c41d4891a3493153a36e2"
          }
        },
        "aa8b08082c6d4b519a194e4ddc96596e": {
          "model_module": "@jupyter-widgets/controls",
          "model_name": "FloatProgressModel",
          "model_module_version": "1.5.0",
          "state": {
            "_view_name": "ProgressView",
            "style": "IPY_MODEL_33aba195ee1643be9ec864a34a186dee",
            "_dom_classes": [],
            "description": "",
            "_model_name": "FloatProgressModel",
            "bar_style": "info",
            "max": 1,
            "_view_module": "@jupyter-widgets/controls",
            "_model_module_version": "1.5.0",
            "value": 1,
            "_view_count": null,
            "_view_module_version": "1.5.0",
            "orientation": "horizontal",
            "min": 0,
            "description_tooltip": null,
            "_model_module": "@jupyter-widgets/controls",
            "layout": "IPY_MODEL_5c67748401d549598fbc8329c86d9a2c"
          }
        },
        "511b948879b1458ba97e4560a30bf534": {
          "model_module": "@jupyter-widgets/controls",
          "model_name": "HTMLModel",
          "model_module_version": "1.5.0",
          "state": {
            "_view_name": "HTMLView",
            "style": "IPY_MODEL_ada00c805e71405c9029e936169f0cac",
            "_dom_classes": [],
            "description": "",
            "_model_name": "HTMLModel",
            "placeholder": "​",
            "_view_module": "@jupyter-widgets/controls",
            "_model_module_version": "1.5.0",
            "value": " 207429/0 [00:28&lt;00:00, 7599.11 examples/s]",
            "_view_count": null,
            "_view_module_version": "1.5.0",
            "description_tooltip": null,
            "_model_module": "@jupyter-widgets/controls",
            "layout": "IPY_MODEL_0f3c2da6c06343c6a37f516bf74d6cee"
          }
        },
        "34fcc917a0f54b9a869c273392798bb8": {
          "model_module": "@jupyter-widgets/controls",
          "model_name": "DescriptionStyleModel",
          "model_module_version": "1.5.0",
          "state": {
            "_view_name": "StyleView",
            "_model_name": "DescriptionStyleModel",
            "description_width": "",
            "_view_module": "@jupyter-widgets/base",
            "_model_module_version": "1.5.0",
            "_view_count": null,
            "_view_module_version": "1.2.0",
            "_model_module": "@jupyter-widgets/controls"
          }
        },
        "8777bd7b5a4c41d4891a3493153a36e2": {
          "model_module": "@jupyter-widgets/base",
          "model_name": "LayoutModel",
          "model_module_version": "1.2.0",
          "state": {
            "_view_name": "LayoutView",
            "grid_template_rows": null,
            "right": null,
            "justify_content": null,
            "_view_module": "@jupyter-widgets/base",
            "overflow": null,
            "_model_module_version": "1.2.0",
            "_view_count": null,
            "flex_flow": null,
            "width": null,
            "min_width": null,
            "border": null,
            "align_items": null,
            "bottom": null,
            "_model_module": "@jupyter-widgets/base",
            "top": null,
            "grid_column": null,
            "overflow_y": null,
            "overflow_x": null,
            "grid_auto_flow": null,
            "grid_area": null,
            "grid_template_columns": null,
            "flex": null,
            "_model_name": "LayoutModel",
            "justify_items": null,
            "grid_row": null,
            "max_height": null,
            "align_content": null,
            "visibility": null,
            "align_self": null,
            "height": null,
            "min_height": null,
            "padding": null,
            "grid_auto_rows": null,
            "grid_gap": null,
            "max_width": null,
            "order": null,
            "_view_module_version": "1.2.0",
            "grid_template_areas": null,
            "object_position": null,
            "object_fit": null,
            "grid_auto_columns": null,
            "margin": null,
            "display": null,
            "left": null
          }
        },
        "33aba195ee1643be9ec864a34a186dee": {
          "model_module": "@jupyter-widgets/controls",
          "model_name": "ProgressStyleModel",
          "model_module_version": "1.5.0",
          "state": {
            "_view_name": "StyleView",
            "_model_name": "ProgressStyleModel",
            "description_width": "",
            "_view_module": "@jupyter-widgets/base",
            "_model_module_version": "1.5.0",
            "_view_count": null,
            "_view_module_version": "1.2.0",
            "bar_color": null,
            "_model_module": "@jupyter-widgets/controls"
          }
        },
        "5c67748401d549598fbc8329c86d9a2c": {
          "model_module": "@jupyter-widgets/base",
          "model_name": "LayoutModel",
          "model_module_version": "1.2.0",
          "state": {
            "_view_name": "LayoutView",
            "grid_template_rows": null,
            "right": null,
            "justify_content": null,
            "_view_module": "@jupyter-widgets/base",
            "overflow": null,
            "_model_module_version": "1.2.0",
            "_view_count": null,
            "flex_flow": null,
            "width": "20px",
            "min_width": null,
            "border": null,
            "align_items": null,
            "bottom": null,
            "_model_module": "@jupyter-widgets/base",
            "top": null,
            "grid_column": null,
            "overflow_y": null,
            "overflow_x": null,
            "grid_auto_flow": null,
            "grid_area": null,
            "grid_template_columns": null,
            "flex": null,
            "_model_name": "LayoutModel",
            "justify_items": null,
            "grid_row": null,
            "max_height": null,
            "align_content": null,
            "visibility": null,
            "align_self": null,
            "height": null,
            "min_height": null,
            "padding": null,
            "grid_auto_rows": null,
            "grid_gap": null,
            "max_width": null,
            "order": null,
            "_view_module_version": "1.2.0",
            "grid_template_areas": null,
            "object_position": null,
            "object_fit": null,
            "grid_auto_columns": null,
            "margin": null,
            "display": null,
            "left": null
          }
        },
        "ada00c805e71405c9029e936169f0cac": {
          "model_module": "@jupyter-widgets/controls",
          "model_name": "DescriptionStyleModel",
          "model_module_version": "1.5.0",
          "state": {
            "_view_name": "StyleView",
            "_model_name": "DescriptionStyleModel",
            "description_width": "",
            "_view_module": "@jupyter-widgets/base",
            "_model_module_version": "1.5.0",
            "_view_count": null,
            "_view_module_version": "1.2.0",
            "_model_module": "@jupyter-widgets/controls"
          }
        },
        "0f3c2da6c06343c6a37f516bf74d6cee": {
          "model_module": "@jupyter-widgets/base",
          "model_name": "LayoutModel",
          "model_module_version": "1.2.0",
          "state": {
            "_view_name": "LayoutView",
            "grid_template_rows": null,
            "right": null,
            "justify_content": null,
            "_view_module": "@jupyter-widgets/base",
            "overflow": null,
            "_model_module_version": "1.2.0",
            "_view_count": null,
            "flex_flow": null,
            "width": null,
            "min_width": null,
            "border": null,
            "align_items": null,
            "bottom": null,
            "_model_module": "@jupyter-widgets/base",
            "top": null,
            "grid_column": null,
            "overflow_y": null,
            "overflow_x": null,
            "grid_auto_flow": null,
            "grid_area": null,
            "grid_template_columns": null,
            "flex": null,
            "_model_name": "LayoutModel",
            "justify_items": null,
            "grid_row": null,
            "max_height": null,
            "align_content": null,
            "visibility": null,
            "align_self": null,
            "height": null,
            "min_height": null,
            "padding": null,
            "grid_auto_rows": null,
            "grid_gap": null,
            "max_width": null,
            "order": null,
            "_view_module_version": "1.2.0",
            "grid_template_areas": null,
            "object_position": null,
            "object_fit": null,
            "grid_auto_columns": null,
            "margin": null,
            "display": null,
            "left": null
          }
        },
        "5a2190ba1b00455483471079b07f70d3": {
          "model_module": "@jupyter-widgets/controls",
          "model_name": "HBoxModel",
          "model_module_version": "1.5.0",
          "state": {
            "_view_name": "HBoxView",
            "_dom_classes": [],
            "_model_name": "HBoxModel",
            "_view_module": "@jupyter-widgets/controls",
            "_model_module_version": "1.5.0",
            "_view_count": null,
            "_view_module_version": "1.5.0",
            "box_style": "",
            "layout": "IPY_MODEL_654df664bda14e338fc18527f9fb7630",
            "_model_module": "@jupyter-widgets/controls",
            "children": [
              "IPY_MODEL_0c3b2c813cf9407b8408dd52b2f7604b",
              "IPY_MODEL_6e281ed6a745434e8a6c81e588272d06",
              "IPY_MODEL_8cb96f4a59b14a5da82a7d802d15e1df"
            ]
          }
        },
        "654df664bda14e338fc18527f9fb7630": {
          "model_module": "@jupyter-widgets/base",
          "model_name": "LayoutModel",
          "model_module_version": "1.2.0",
          "state": {
            "_view_name": "LayoutView",
            "grid_template_rows": null,
            "right": null,
            "justify_content": null,
            "_view_module": "@jupyter-widgets/base",
            "overflow": null,
            "_model_module_version": "1.2.0",
            "_view_count": null,
            "flex_flow": null,
            "width": null,
            "min_width": null,
            "border": null,
            "align_items": null,
            "bottom": null,
            "_model_module": "@jupyter-widgets/base",
            "top": null,
            "grid_column": null,
            "overflow_y": null,
            "overflow_x": null,
            "grid_auto_flow": null,
            "grid_area": null,
            "grid_template_columns": null,
            "flex": null,
            "_model_name": "LayoutModel",
            "justify_items": null,
            "grid_row": null,
            "max_height": null,
            "align_content": null,
            "visibility": null,
            "align_self": null,
            "height": null,
            "min_height": null,
            "padding": null,
            "grid_auto_rows": null,
            "grid_gap": null,
            "max_width": null,
            "order": null,
            "_view_module_version": "1.2.0",
            "grid_template_areas": null,
            "object_position": null,
            "object_fit": null,
            "grid_auto_columns": null,
            "margin": null,
            "display": null,
            "left": null
          }
        },
        "0c3b2c813cf9407b8408dd52b2f7604b": {
          "model_module": "@jupyter-widgets/controls",
          "model_name": "HTMLModel",
          "model_module_version": "1.5.0",
          "state": {
            "_view_name": "HTMLView",
            "style": "IPY_MODEL_127c4e55f0074c5ea0b84ee49a072c9b",
            "_dom_classes": [],
            "description": "",
            "_model_name": "HTMLModel",
            "placeholder": "​",
            "_view_module": "@jupyter-widgets/controls",
            "_model_module_version": "1.5.0",
            "value": "100%",
            "_view_count": null,
            "_view_module_version": "1.5.0",
            "description_tooltip": null,
            "_model_module": "@jupyter-widgets/controls",
            "layout": "IPY_MODEL_5e6ee3f179114ca5996b02b84c781c40"
          }
        },
        "6e281ed6a745434e8a6c81e588272d06": {
          "model_module": "@jupyter-widgets/controls",
          "model_name": "FloatProgressModel",
          "model_module_version": "1.5.0",
          "state": {
            "_view_name": "ProgressView",
            "style": "IPY_MODEL_cce560dbbd2c42f7b28d1d29b4e8269d",
            "_dom_classes": [],
            "description": "",
            "_model_name": "FloatProgressModel",
            "bar_style": "danger",
            "max": 208106,
            "_view_module": "@jupyter-widgets/controls",
            "_model_module_version": "1.5.0",
            "value": 208105,
            "_view_count": null,
            "_view_module_version": "1.5.0",
            "orientation": "horizontal",
            "min": 0,
            "description_tooltip": null,
            "_model_module": "@jupyter-widgets/controls",
            "layout": "IPY_MODEL_cbb229f2f3584815be09d90221f37e71"
          }
        },
        "8cb96f4a59b14a5da82a7d802d15e1df": {
          "model_module": "@jupyter-widgets/controls",
          "model_name": "HTMLModel",
          "model_module_version": "1.5.0",
          "state": {
            "_view_name": "HTMLView",
            "style": "IPY_MODEL_6e4ae5e2406444b3af13c32075241107",
            "_dom_classes": [],
            "description": "",
            "_model_name": "HTMLModel",
            "placeholder": "​",
            "_view_module": "@jupyter-widgets/controls",
            "_model_module_version": "1.5.0",
            "value": " 208105/208106 [00:00&lt;00:00, 382383.36 examples/s]",
            "_view_count": null,
            "_view_module_version": "1.5.0",
            "description_tooltip": null,
            "_model_module": "@jupyter-widgets/controls",
            "layout": "IPY_MODEL_067b2231f6be471fa4afb209e8208c5d"
          }
        },
        "127c4e55f0074c5ea0b84ee49a072c9b": {
          "model_module": "@jupyter-widgets/controls",
          "model_name": "DescriptionStyleModel",
          "model_module_version": "1.5.0",
          "state": {
            "_view_name": "StyleView",
            "_model_name": "DescriptionStyleModel",
            "description_width": "",
            "_view_module": "@jupyter-widgets/base",
            "_model_module_version": "1.5.0",
            "_view_count": null,
            "_view_module_version": "1.2.0",
            "_model_module": "@jupyter-widgets/controls"
          }
        },
        "5e6ee3f179114ca5996b02b84c781c40": {
          "model_module": "@jupyter-widgets/base",
          "model_name": "LayoutModel",
          "model_module_version": "1.2.0",
          "state": {
            "_view_name": "LayoutView",
            "grid_template_rows": null,
            "right": null,
            "justify_content": null,
            "_view_module": "@jupyter-widgets/base",
            "overflow": null,
            "_model_module_version": "1.2.0",
            "_view_count": null,
            "flex_flow": null,
            "width": null,
            "min_width": null,
            "border": null,
            "align_items": null,
            "bottom": null,
            "_model_module": "@jupyter-widgets/base",
            "top": null,
            "grid_column": null,
            "overflow_y": null,
            "overflow_x": null,
            "grid_auto_flow": null,
            "grid_area": null,
            "grid_template_columns": null,
            "flex": null,
            "_model_name": "LayoutModel",
            "justify_items": null,
            "grid_row": null,
            "max_height": null,
            "align_content": null,
            "visibility": null,
            "align_self": null,
            "height": null,
            "min_height": null,
            "padding": null,
            "grid_auto_rows": null,
            "grid_gap": null,
            "max_width": null,
            "order": null,
            "_view_module_version": "1.2.0",
            "grid_template_areas": null,
            "object_position": null,
            "object_fit": null,
            "grid_auto_columns": null,
            "margin": null,
            "display": null,
            "left": null
          }
        },
        "cce560dbbd2c42f7b28d1d29b4e8269d": {
          "model_module": "@jupyter-widgets/controls",
          "model_name": "ProgressStyleModel",
          "model_module_version": "1.5.0",
          "state": {
            "_view_name": "StyleView",
            "_model_name": "ProgressStyleModel",
            "description_width": "",
            "_view_module": "@jupyter-widgets/base",
            "_model_module_version": "1.5.0",
            "_view_count": null,
            "_view_module_version": "1.2.0",
            "bar_color": null,
            "_model_module": "@jupyter-widgets/controls"
          }
        },
        "cbb229f2f3584815be09d90221f37e71": {
          "model_module": "@jupyter-widgets/base",
          "model_name": "LayoutModel",
          "model_module_version": "1.2.0",
          "state": {
            "_view_name": "LayoutView",
            "grid_template_rows": null,
            "right": null,
            "justify_content": null,
            "_view_module": "@jupyter-widgets/base",
            "overflow": null,
            "_model_module_version": "1.2.0",
            "_view_count": null,
            "flex_flow": null,
            "width": null,
            "min_width": null,
            "border": null,
            "align_items": null,
            "bottom": null,
            "_model_module": "@jupyter-widgets/base",
            "top": null,
            "grid_column": null,
            "overflow_y": null,
            "overflow_x": null,
            "grid_auto_flow": null,
            "grid_area": null,
            "grid_template_columns": null,
            "flex": null,
            "_model_name": "LayoutModel",
            "justify_items": null,
            "grid_row": null,
            "max_height": null,
            "align_content": null,
            "visibility": null,
            "align_self": null,
            "height": null,
            "min_height": null,
            "padding": null,
            "grid_auto_rows": null,
            "grid_gap": null,
            "max_width": null,
            "order": null,
            "_view_module_version": "1.2.0",
            "grid_template_areas": null,
            "object_position": null,
            "object_fit": null,
            "grid_auto_columns": null,
            "margin": null,
            "display": null,
            "left": null
          }
        },
        "6e4ae5e2406444b3af13c32075241107": {
          "model_module": "@jupyter-widgets/controls",
          "model_name": "DescriptionStyleModel",
          "model_module_version": "1.5.0",
          "state": {
            "_view_name": "StyleView",
            "_model_name": "DescriptionStyleModel",
            "description_width": "",
            "_view_module": "@jupyter-widgets/base",
            "_model_module_version": "1.5.0",
            "_view_count": null,
            "_view_module_version": "1.2.0",
            "_model_module": "@jupyter-widgets/controls"
          }
        },
        "067b2231f6be471fa4afb209e8208c5d": {
          "model_module": "@jupyter-widgets/base",
          "model_name": "LayoutModel",
          "model_module_version": "1.2.0",
          "state": {
            "_view_name": "LayoutView",
            "grid_template_rows": null,
            "right": null,
            "justify_content": null,
            "_view_module": "@jupyter-widgets/base",
            "overflow": null,
            "_model_module_version": "1.2.0",
            "_view_count": null,
            "flex_flow": null,
            "width": null,
            "min_width": null,
            "border": null,
            "align_items": null,
            "bottom": null,
            "_model_module": "@jupyter-widgets/base",
            "top": null,
            "grid_column": null,
            "overflow_y": null,
            "overflow_x": null,
            "grid_auto_flow": null,
            "grid_area": null,
            "grid_template_columns": null,
            "flex": null,
            "_model_name": "LayoutModel",
            "justify_items": null,
            "grid_row": null,
            "max_height": null,
            "align_content": null,
            "visibility": null,
            "align_self": null,
            "height": null,
            "min_height": null,
            "padding": null,
            "grid_auto_rows": null,
            "grid_gap": null,
            "max_width": null,
            "order": null,
            "_view_module_version": "1.2.0",
            "grid_template_areas": null,
            "object_position": null,
            "object_fit": null,
            "grid_auto_columns": null,
            "margin": null,
            "display": null,
            "left": null
          }
        },
        "02868b6f1570434385f0ab4bf1d9523d": {
          "model_module": "@jupyter-widgets/controls",
          "model_name": "HBoxModel",
          "model_module_version": "1.5.0",
          "state": {
            "_view_name": "HBoxView",
            "_dom_classes": [],
            "_model_name": "HBoxModel",
            "_view_module": "@jupyter-widgets/controls",
            "_model_module_version": "1.5.0",
            "_view_count": null,
            "_view_module_version": "1.5.0",
            "box_style": "",
            "layout": "IPY_MODEL_c68393c58b8c4ced87de328bc55eba62",
            "_model_module": "@jupyter-widgets/controls",
            "children": [
              "IPY_MODEL_3fe622fb9f7c412593c5214bfd907b33",
              "IPY_MODEL_b1ebcfeefbc24469a4cb770bcb1e3ea6",
              "IPY_MODEL_154ef2f4a0bd43219c0fb869b0696bfc"
            ]
          }
        },
        "c68393c58b8c4ced87de328bc55eba62": {
          "model_module": "@jupyter-widgets/base",
          "model_name": "LayoutModel",
          "model_module_version": "1.2.0",
          "state": {
            "_view_name": "LayoutView",
            "grid_template_rows": null,
            "right": null,
            "justify_content": null,
            "_view_module": "@jupyter-widgets/base",
            "overflow": null,
            "_model_module_version": "1.2.0",
            "_view_count": null,
            "flex_flow": null,
            "width": null,
            "min_width": null,
            "border": null,
            "align_items": null,
            "bottom": null,
            "_model_module": "@jupyter-widgets/base",
            "top": null,
            "grid_column": null,
            "overflow_y": null,
            "overflow_x": null,
            "grid_auto_flow": null,
            "grid_area": null,
            "grid_template_columns": null,
            "flex": null,
            "_model_name": "LayoutModel",
            "justify_items": null,
            "grid_row": null,
            "max_height": null,
            "align_content": null,
            "visibility": null,
            "align_self": null,
            "height": null,
            "min_height": null,
            "padding": null,
            "grid_auto_rows": null,
            "grid_gap": null,
            "max_width": null,
            "order": null,
            "_view_module_version": "1.2.0",
            "grid_template_areas": null,
            "object_position": null,
            "object_fit": null,
            "grid_auto_columns": null,
            "margin": null,
            "display": null,
            "left": null
          }
        },
        "3fe622fb9f7c412593c5214bfd907b33": {
          "model_module": "@jupyter-widgets/controls",
          "model_name": "HTMLModel",
          "model_module_version": "1.5.0",
          "state": {
            "_view_name": "HTMLView",
            "style": "IPY_MODEL_3c7570b902144d0a909d911fd0020457",
            "_dom_classes": [],
            "description": "",
            "_model_name": "HTMLModel",
            "placeholder": "​",
            "_view_module": "@jupyter-widgets/controls",
            "_model_module_version": "1.5.0",
            "value": "",
            "_view_count": null,
            "_view_module_version": "1.5.0",
            "description_tooltip": null,
            "_model_module": "@jupyter-widgets/controls",
            "layout": "IPY_MODEL_0fea3f2daa4f458b87cb0f3cf1972b3b"
          }
        },
        "b1ebcfeefbc24469a4cb770bcb1e3ea6": {
          "model_module": "@jupyter-widgets/controls",
          "model_name": "FloatProgressModel",
          "model_module_version": "1.5.0",
          "state": {
            "_view_name": "ProgressView",
            "style": "IPY_MODEL_e29a1178912f4d27b44b20d5834ff4ad",
            "_dom_classes": [],
            "description": "",
            "_model_name": "FloatProgressModel",
            "bar_style": "info",
            "max": 1,
            "_view_module": "@jupyter-widgets/controls",
            "_model_module_version": "1.5.0",
            "value": 1,
            "_view_count": null,
            "_view_module_version": "1.5.0",
            "orientation": "horizontal",
            "min": 0,
            "description_tooltip": null,
            "_model_module": "@jupyter-widgets/controls",
            "layout": "IPY_MODEL_a3557d993a0a4b388323bba4df92bd2f"
          }
        },
        "154ef2f4a0bd43219c0fb869b0696bfc": {
          "model_module": "@jupyter-widgets/controls",
          "model_name": "HTMLModel",
          "model_module_version": "1.5.0",
          "state": {
            "_view_name": "HTMLView",
            "style": "IPY_MODEL_2af3cb4fad6c44549339314835c13988",
            "_dom_classes": [],
            "description": "",
            "_model_name": "HTMLModel",
            "placeholder": "​",
            "_view_module": "@jupyter-widgets/controls",
            "_model_module_version": "1.5.0",
            "value": " 4181/0 [00:00&lt;00:00, 7245.10 examples/s]",
            "_view_count": null,
            "_view_module_version": "1.5.0",
            "description_tooltip": null,
            "_model_module": "@jupyter-widgets/controls",
            "layout": "IPY_MODEL_0baa48cc9a2e41b4a1c47842ccc53898"
          }
        },
        "3c7570b902144d0a909d911fd0020457": {
          "model_module": "@jupyter-widgets/controls",
          "model_name": "DescriptionStyleModel",
          "model_module_version": "1.5.0",
          "state": {
            "_view_name": "StyleView",
            "_model_name": "DescriptionStyleModel",
            "description_width": "",
            "_view_module": "@jupyter-widgets/base",
            "_model_module_version": "1.5.0",
            "_view_count": null,
            "_view_module_version": "1.2.0",
            "_model_module": "@jupyter-widgets/controls"
          }
        },
        "0fea3f2daa4f458b87cb0f3cf1972b3b": {
          "model_module": "@jupyter-widgets/base",
          "model_name": "LayoutModel",
          "model_module_version": "1.2.0",
          "state": {
            "_view_name": "LayoutView",
            "grid_template_rows": null,
            "right": null,
            "justify_content": null,
            "_view_module": "@jupyter-widgets/base",
            "overflow": null,
            "_model_module_version": "1.2.0",
            "_view_count": null,
            "flex_flow": null,
            "width": null,
            "min_width": null,
            "border": null,
            "align_items": null,
            "bottom": null,
            "_model_module": "@jupyter-widgets/base",
            "top": null,
            "grid_column": null,
            "overflow_y": null,
            "overflow_x": null,
            "grid_auto_flow": null,
            "grid_area": null,
            "grid_template_columns": null,
            "flex": null,
            "_model_name": "LayoutModel",
            "justify_items": null,
            "grid_row": null,
            "max_height": null,
            "align_content": null,
            "visibility": null,
            "align_self": null,
            "height": null,
            "min_height": null,
            "padding": null,
            "grid_auto_rows": null,
            "grid_gap": null,
            "max_width": null,
            "order": null,
            "_view_module_version": "1.2.0",
            "grid_template_areas": null,
            "object_position": null,
            "object_fit": null,
            "grid_auto_columns": null,
            "margin": null,
            "display": null,
            "left": null
          }
        },
        "e29a1178912f4d27b44b20d5834ff4ad": {
          "model_module": "@jupyter-widgets/controls",
          "model_name": "ProgressStyleModel",
          "model_module_version": "1.5.0",
          "state": {
            "_view_name": "StyleView",
            "_model_name": "ProgressStyleModel",
            "description_width": "",
            "_view_module": "@jupyter-widgets/base",
            "_model_module_version": "1.5.0",
            "_view_count": null,
            "_view_module_version": "1.2.0",
            "bar_color": null,
            "_model_module": "@jupyter-widgets/controls"
          }
        },
        "a3557d993a0a4b388323bba4df92bd2f": {
          "model_module": "@jupyter-widgets/base",
          "model_name": "LayoutModel",
          "model_module_version": "1.2.0",
          "state": {
            "_view_name": "LayoutView",
            "grid_template_rows": null,
            "right": null,
            "justify_content": null,
            "_view_module": "@jupyter-widgets/base",
            "overflow": null,
            "_model_module_version": "1.2.0",
            "_view_count": null,
            "flex_flow": null,
            "width": "20px",
            "min_width": null,
            "border": null,
            "align_items": null,
            "bottom": null,
            "_model_module": "@jupyter-widgets/base",
            "top": null,
            "grid_column": null,
            "overflow_y": null,
            "overflow_x": null,
            "grid_auto_flow": null,
            "grid_area": null,
            "grid_template_columns": null,
            "flex": null,
            "_model_name": "LayoutModel",
            "justify_items": null,
            "grid_row": null,
            "max_height": null,
            "align_content": null,
            "visibility": null,
            "align_self": null,
            "height": null,
            "min_height": null,
            "padding": null,
            "grid_auto_rows": null,
            "grid_gap": null,
            "max_width": null,
            "order": null,
            "_view_module_version": "1.2.0",
            "grid_template_areas": null,
            "object_position": null,
            "object_fit": null,
            "grid_auto_columns": null,
            "margin": null,
            "display": null,
            "left": null
          }
        },
        "2af3cb4fad6c44549339314835c13988": {
          "model_module": "@jupyter-widgets/controls",
          "model_name": "DescriptionStyleModel",
          "model_module_version": "1.5.0",
          "state": {
            "_view_name": "StyleView",
            "_model_name": "DescriptionStyleModel",
            "description_width": "",
            "_view_module": "@jupyter-widgets/base",
            "_model_module_version": "1.5.0",
            "_view_count": null,
            "_view_module_version": "1.2.0",
            "_model_module": "@jupyter-widgets/controls"
          }
        },
        "0baa48cc9a2e41b4a1c47842ccc53898": {
          "model_module": "@jupyter-widgets/base",
          "model_name": "LayoutModel",
          "model_module_version": "1.2.0",
          "state": {
            "_view_name": "LayoutView",
            "grid_template_rows": null,
            "right": null,
            "justify_content": null,
            "_view_module": "@jupyter-widgets/base",
            "overflow": null,
            "_model_module_version": "1.2.0",
            "_view_count": null,
            "flex_flow": null,
            "width": null,
            "min_width": null,
            "border": null,
            "align_items": null,
            "bottom": null,
            "_model_module": "@jupyter-widgets/base",
            "top": null,
            "grid_column": null,
            "overflow_y": null,
            "overflow_x": null,
            "grid_auto_flow": null,
            "grid_area": null,
            "grid_template_columns": null,
            "flex": null,
            "_model_name": "LayoutModel",
            "justify_items": null,
            "grid_row": null,
            "max_height": null,
            "align_content": null,
            "visibility": null,
            "align_self": null,
            "height": null,
            "min_height": null,
            "padding": null,
            "grid_auto_rows": null,
            "grid_gap": null,
            "max_width": null,
            "order": null,
            "_view_module_version": "1.2.0",
            "grid_template_areas": null,
            "object_position": null,
            "object_fit": null,
            "grid_auto_columns": null,
            "margin": null,
            "display": null,
            "left": null
          }
        },
        "3cbaac445eac412daef7cb8729a2f058": {
          "model_module": "@jupyter-widgets/controls",
          "model_name": "HBoxModel",
          "model_module_version": "1.5.0",
          "state": {
            "_view_name": "HBoxView",
            "_dom_classes": [],
            "_model_name": "HBoxModel",
            "_view_module": "@jupyter-widgets/controls",
            "_model_module_version": "1.5.0",
            "_view_count": null,
            "_view_module_version": "1.5.0",
            "box_style": "",
            "layout": "IPY_MODEL_1414a899c7d040379333f0464fbb1b98",
            "_model_module": "@jupyter-widgets/controls",
            "children": [
              "IPY_MODEL_ffab09aea58e430fb48a7d79b1a9ba91",
              "IPY_MODEL_bf5952a27092473fa32470cae5db0b0b",
              "IPY_MODEL_54acc938a1e848069b0fe16346f0f4f9"
            ]
          }
        },
        "1414a899c7d040379333f0464fbb1b98": {
          "model_module": "@jupyter-widgets/base",
          "model_name": "LayoutModel",
          "model_module_version": "1.2.0",
          "state": {
            "_view_name": "LayoutView",
            "grid_template_rows": null,
            "right": null,
            "justify_content": null,
            "_view_module": "@jupyter-widgets/base",
            "overflow": null,
            "_model_module_version": "1.2.0",
            "_view_count": null,
            "flex_flow": null,
            "width": null,
            "min_width": null,
            "border": null,
            "align_items": null,
            "bottom": null,
            "_model_module": "@jupyter-widgets/base",
            "top": null,
            "grid_column": null,
            "overflow_y": null,
            "overflow_x": null,
            "grid_auto_flow": null,
            "grid_area": null,
            "grid_template_columns": null,
            "flex": null,
            "_model_name": "LayoutModel",
            "justify_items": null,
            "grid_row": null,
            "max_height": null,
            "align_content": null,
            "visibility": null,
            "align_self": null,
            "height": null,
            "min_height": null,
            "padding": null,
            "grid_auto_rows": null,
            "grid_gap": null,
            "max_width": null,
            "order": null,
            "_view_module_version": "1.2.0",
            "grid_template_areas": null,
            "object_position": null,
            "object_fit": null,
            "grid_auto_columns": null,
            "margin": null,
            "display": null,
            "left": null
          }
        },
        "ffab09aea58e430fb48a7d79b1a9ba91": {
          "model_module": "@jupyter-widgets/controls",
          "model_name": "HTMLModel",
          "model_module_version": "1.5.0",
          "state": {
            "_view_name": "HTMLView",
            "style": "IPY_MODEL_f8417c30da664f52a50aa566367b7d27",
            "_dom_classes": [],
            "description": "",
            "_model_name": "HTMLModel",
            "placeholder": "​",
            "_view_module": "@jupyter-widgets/controls",
            "_model_module_version": "1.5.0",
            "value": "100%",
            "_view_count": null,
            "_view_module_version": "1.5.0",
            "description_tooltip": null,
            "_model_module": "@jupyter-widgets/controls",
            "layout": "IPY_MODEL_afec4a1c7eb14df4aded5c746ddab2a8"
          }
        },
        "bf5952a27092473fa32470cae5db0b0b": {
          "model_module": "@jupyter-widgets/controls",
          "model_name": "FloatProgressModel",
          "model_module_version": "1.5.0",
          "state": {
            "_view_name": "ProgressView",
            "style": "IPY_MODEL_6b35e820ae27466f81a66f1977c5a830",
            "_dom_classes": [],
            "description": "",
            "_model_name": "FloatProgressModel",
            "bar_style": "danger",
            "max": 4805,
            "_view_module": "@jupyter-widgets/controls",
            "_model_module_version": "1.5.0",
            "value": 4804,
            "_view_count": null,
            "_view_module_version": "1.5.0",
            "orientation": "horizontal",
            "min": 0,
            "description_tooltip": null,
            "_model_module": "@jupyter-widgets/controls",
            "layout": "IPY_MODEL_061bed1da94b424b9fd54bdddac30db3"
          }
        },
        "54acc938a1e848069b0fe16346f0f4f9": {
          "model_module": "@jupyter-widgets/controls",
          "model_name": "HTMLModel",
          "model_module_version": "1.5.0",
          "state": {
            "_view_name": "HTMLView",
            "style": "IPY_MODEL_daf2dd61b1734a65b4b8d9261a99ce99",
            "_dom_classes": [],
            "description": "",
            "_model_name": "HTMLModel",
            "placeholder": "​",
            "_view_module": "@jupyter-widgets/controls",
            "_model_module_version": "1.5.0",
            "value": " 4804/4805 [00:00&lt;00:00, 111294.57 examples/s]",
            "_view_count": null,
            "_view_module_version": "1.5.0",
            "description_tooltip": null,
            "_model_module": "@jupyter-widgets/controls",
            "layout": "IPY_MODEL_c627f8e949b14f1ba5a905d10fbf9dec"
          }
        },
        "f8417c30da664f52a50aa566367b7d27": {
          "model_module": "@jupyter-widgets/controls",
          "model_name": "DescriptionStyleModel",
          "model_module_version": "1.5.0",
          "state": {
            "_view_name": "StyleView",
            "_model_name": "DescriptionStyleModel",
            "description_width": "",
            "_view_module": "@jupyter-widgets/base",
            "_model_module_version": "1.5.0",
            "_view_count": null,
            "_view_module_version": "1.2.0",
            "_model_module": "@jupyter-widgets/controls"
          }
        },
        "afec4a1c7eb14df4aded5c746ddab2a8": {
          "model_module": "@jupyter-widgets/base",
          "model_name": "LayoutModel",
          "model_module_version": "1.2.0",
          "state": {
            "_view_name": "LayoutView",
            "grid_template_rows": null,
            "right": null,
            "justify_content": null,
            "_view_module": "@jupyter-widgets/base",
            "overflow": null,
            "_model_module_version": "1.2.0",
            "_view_count": null,
            "flex_flow": null,
            "width": null,
            "min_width": null,
            "border": null,
            "align_items": null,
            "bottom": null,
            "_model_module": "@jupyter-widgets/base",
            "top": null,
            "grid_column": null,
            "overflow_y": null,
            "overflow_x": null,
            "grid_auto_flow": null,
            "grid_area": null,
            "grid_template_columns": null,
            "flex": null,
            "_model_name": "LayoutModel",
            "justify_items": null,
            "grid_row": null,
            "max_height": null,
            "align_content": null,
            "visibility": null,
            "align_self": null,
            "height": null,
            "min_height": null,
            "padding": null,
            "grid_auto_rows": null,
            "grid_gap": null,
            "max_width": null,
            "order": null,
            "_view_module_version": "1.2.0",
            "grid_template_areas": null,
            "object_position": null,
            "object_fit": null,
            "grid_auto_columns": null,
            "margin": null,
            "display": null,
            "left": null
          }
        },
        "6b35e820ae27466f81a66f1977c5a830": {
          "model_module": "@jupyter-widgets/controls",
          "model_name": "ProgressStyleModel",
          "model_module_version": "1.5.0",
          "state": {
            "_view_name": "StyleView",
            "_model_name": "ProgressStyleModel",
            "description_width": "",
            "_view_module": "@jupyter-widgets/base",
            "_model_module_version": "1.5.0",
            "_view_count": null,
            "_view_module_version": "1.2.0",
            "bar_color": null,
            "_model_module": "@jupyter-widgets/controls"
          }
        },
        "061bed1da94b424b9fd54bdddac30db3": {
          "model_module": "@jupyter-widgets/base",
          "model_name": "LayoutModel",
          "model_module_version": "1.2.0",
          "state": {
            "_view_name": "LayoutView",
            "grid_template_rows": null,
            "right": null,
            "justify_content": null,
            "_view_module": "@jupyter-widgets/base",
            "overflow": null,
            "_model_module_version": "1.2.0",
            "_view_count": null,
            "flex_flow": null,
            "width": null,
            "min_width": null,
            "border": null,
            "align_items": null,
            "bottom": null,
            "_model_module": "@jupyter-widgets/base",
            "top": null,
            "grid_column": null,
            "overflow_y": null,
            "overflow_x": null,
            "grid_auto_flow": null,
            "grid_area": null,
            "grid_template_columns": null,
            "flex": null,
            "_model_name": "LayoutModel",
            "justify_items": null,
            "grid_row": null,
            "max_height": null,
            "align_content": null,
            "visibility": null,
            "align_self": null,
            "height": null,
            "min_height": null,
            "padding": null,
            "grid_auto_rows": null,
            "grid_gap": null,
            "max_width": null,
            "order": null,
            "_view_module_version": "1.2.0",
            "grid_template_areas": null,
            "object_position": null,
            "object_fit": null,
            "grid_auto_columns": null,
            "margin": null,
            "display": null,
            "left": null
          }
        },
        "daf2dd61b1734a65b4b8d9261a99ce99": {
          "model_module": "@jupyter-widgets/controls",
          "model_name": "DescriptionStyleModel",
          "model_module_version": "1.5.0",
          "state": {
            "_view_name": "StyleView",
            "_model_name": "DescriptionStyleModel",
            "description_width": "",
            "_view_module": "@jupyter-widgets/base",
            "_model_module_version": "1.5.0",
            "_view_count": null,
            "_view_module_version": "1.2.0",
            "_model_module": "@jupyter-widgets/controls"
          }
        },
        "c627f8e949b14f1ba5a905d10fbf9dec": {
          "model_module": "@jupyter-widgets/base",
          "model_name": "LayoutModel",
          "model_module_version": "1.2.0",
          "state": {
            "_view_name": "LayoutView",
            "grid_template_rows": null,
            "right": null,
            "justify_content": null,
            "_view_module": "@jupyter-widgets/base",
            "overflow": null,
            "_model_module_version": "1.2.0",
            "_view_count": null,
            "flex_flow": null,
            "width": null,
            "min_width": null,
            "border": null,
            "align_items": null,
            "bottom": null,
            "_model_module": "@jupyter-widgets/base",
            "top": null,
            "grid_column": null,
            "overflow_y": null,
            "overflow_x": null,
            "grid_auto_flow": null,
            "grid_area": null,
            "grid_template_columns": null,
            "flex": null,
            "_model_name": "LayoutModel",
            "justify_items": null,
            "grid_row": null,
            "max_height": null,
            "align_content": null,
            "visibility": null,
            "align_self": null,
            "height": null,
            "min_height": null,
            "padding": null,
            "grid_auto_rows": null,
            "grid_gap": null,
            "max_width": null,
            "order": null,
            "_view_module_version": "1.2.0",
            "grid_template_areas": null,
            "object_position": null,
            "object_fit": null,
            "grid_auto_columns": null,
            "margin": null,
            "display": null,
            "left": null
          }
        },
        "80d68bc54c404fbfa3cc2815ca30ded0": {
          "model_module": "@jupyter-widgets/controls",
          "model_name": "HBoxModel",
          "model_module_version": "1.5.0",
          "state": {
            "_view_name": "HBoxView",
            "_dom_classes": [],
            "_model_name": "HBoxModel",
            "_view_module": "@jupyter-widgets/controls",
            "_model_module_version": "1.5.0",
            "_view_count": null,
            "_view_module_version": "1.5.0",
            "box_style": "",
            "layout": "IPY_MODEL_a0715843b86e4a1cbc538a62bfe8200f",
            "_model_module": "@jupyter-widgets/controls",
            "children": [
              "IPY_MODEL_dd1a382ae08b4256b6b6d0e1b6d07e67",
              "IPY_MODEL_45b547b458074813b3674c9bbe85f917",
              "IPY_MODEL_96b909306f4246ed8d13e4553e2636cb"
            ]
          }
        },
        "a0715843b86e4a1cbc538a62bfe8200f": {
          "model_module": "@jupyter-widgets/base",
          "model_name": "LayoutModel",
          "model_module_version": "1.2.0",
          "state": {
            "_view_name": "LayoutView",
            "grid_template_rows": null,
            "right": null,
            "justify_content": null,
            "_view_module": "@jupyter-widgets/base",
            "overflow": null,
            "_model_module_version": "1.2.0",
            "_view_count": null,
            "flex_flow": null,
            "width": null,
            "min_width": null,
            "border": null,
            "align_items": null,
            "bottom": null,
            "_model_module": "@jupyter-widgets/base",
            "top": null,
            "grid_column": null,
            "overflow_y": null,
            "overflow_x": null,
            "grid_auto_flow": null,
            "grid_area": null,
            "grid_template_columns": null,
            "flex": null,
            "_model_name": "LayoutModel",
            "justify_items": null,
            "grid_row": null,
            "max_height": null,
            "align_content": null,
            "visibility": null,
            "align_self": null,
            "height": null,
            "min_height": null,
            "padding": null,
            "grid_auto_rows": null,
            "grid_gap": null,
            "max_width": null,
            "order": null,
            "_view_module_version": "1.2.0",
            "grid_template_areas": null,
            "object_position": null,
            "object_fit": null,
            "grid_auto_columns": null,
            "margin": null,
            "display": null,
            "left": null
          }
        },
        "dd1a382ae08b4256b6b6d0e1b6d07e67": {
          "model_module": "@jupyter-widgets/controls",
          "model_name": "HTMLModel",
          "model_module_version": "1.5.0",
          "state": {
            "_view_name": "HTMLView",
            "style": "IPY_MODEL_98b657b2871443ad9edd5cd82a4035e8",
            "_dom_classes": [],
            "description": "",
            "_model_name": "HTMLModel",
            "placeholder": "​",
            "_view_module": "@jupyter-widgets/controls",
            "_model_module_version": "1.5.0",
            "value": "",
            "_view_count": null,
            "_view_module_version": "1.5.0",
            "description_tooltip": null,
            "_model_module": "@jupyter-widgets/controls",
            "layout": "IPY_MODEL_f7482f87f0f6486ea4e40b49f1d17e20"
          }
        },
        "45b547b458074813b3674c9bbe85f917": {
          "model_module": "@jupyter-widgets/controls",
          "model_name": "FloatProgressModel",
          "model_module_version": "1.5.0",
          "state": {
            "_view_name": "ProgressView",
            "style": "IPY_MODEL_38b824eeec864e869c2e78c7c901425b",
            "_dom_classes": [],
            "description": "",
            "_model_name": "FloatProgressModel",
            "bar_style": "info",
            "max": 1,
            "_view_module": "@jupyter-widgets/controls",
            "_model_module_version": "1.5.0",
            "value": 1,
            "_view_count": null,
            "_view_module_version": "1.5.0",
            "orientation": "horizontal",
            "min": 0,
            "description_tooltip": null,
            "_model_module": "@jupyter-widgets/controls",
            "layout": "IPY_MODEL_4280e70c3fdf4a5692b3cfd57e67a754"
          }
        },
        "96b909306f4246ed8d13e4553e2636cb": {
          "model_module": "@jupyter-widgets/controls",
          "model_name": "HTMLModel",
          "model_module_version": "1.5.0",
          "state": {
            "_view_name": "HTMLView",
            "style": "IPY_MODEL_f6d32ef6c1234d2fb4af729158598c5c",
            "_dom_classes": [],
            "description": "",
            "_model_name": "HTMLModel",
            "placeholder": "​",
            "_view_module": "@jupyter-widgets/controls",
            "_model_module_version": "1.5.0",
            "value": " 5358/0 [00:00&lt;00:00, 7274.78 examples/s]",
            "_view_count": null,
            "_view_module_version": "1.5.0",
            "description_tooltip": null,
            "_model_module": "@jupyter-widgets/controls",
            "layout": "IPY_MODEL_3184b4791ab14a14b4bb8e1a0968aa12"
          }
        },
        "98b657b2871443ad9edd5cd82a4035e8": {
          "model_module": "@jupyter-widgets/controls",
          "model_name": "DescriptionStyleModel",
          "model_module_version": "1.5.0",
          "state": {
            "_view_name": "StyleView",
            "_model_name": "DescriptionStyleModel",
            "description_width": "",
            "_view_module": "@jupyter-widgets/base",
            "_model_module_version": "1.5.0",
            "_view_count": null,
            "_view_module_version": "1.2.0",
            "_model_module": "@jupyter-widgets/controls"
          }
        },
        "f7482f87f0f6486ea4e40b49f1d17e20": {
          "model_module": "@jupyter-widgets/base",
          "model_name": "LayoutModel",
          "model_module_version": "1.2.0",
          "state": {
            "_view_name": "LayoutView",
            "grid_template_rows": null,
            "right": null,
            "justify_content": null,
            "_view_module": "@jupyter-widgets/base",
            "overflow": null,
            "_model_module_version": "1.2.0",
            "_view_count": null,
            "flex_flow": null,
            "width": null,
            "min_width": null,
            "border": null,
            "align_items": null,
            "bottom": null,
            "_model_module": "@jupyter-widgets/base",
            "top": null,
            "grid_column": null,
            "overflow_y": null,
            "overflow_x": null,
            "grid_auto_flow": null,
            "grid_area": null,
            "grid_template_columns": null,
            "flex": null,
            "_model_name": "LayoutModel",
            "justify_items": null,
            "grid_row": null,
            "max_height": null,
            "align_content": null,
            "visibility": null,
            "align_self": null,
            "height": null,
            "min_height": null,
            "padding": null,
            "grid_auto_rows": null,
            "grid_gap": null,
            "max_width": null,
            "order": null,
            "_view_module_version": "1.2.0",
            "grid_template_areas": null,
            "object_position": null,
            "object_fit": null,
            "grid_auto_columns": null,
            "margin": null,
            "display": null,
            "left": null
          }
        },
        "38b824eeec864e869c2e78c7c901425b": {
          "model_module": "@jupyter-widgets/controls",
          "model_name": "ProgressStyleModel",
          "model_module_version": "1.5.0",
          "state": {
            "_view_name": "StyleView",
            "_model_name": "ProgressStyleModel",
            "description_width": "",
            "_view_module": "@jupyter-widgets/base",
            "_model_module_version": "1.5.0",
            "_view_count": null,
            "_view_module_version": "1.2.0",
            "bar_color": null,
            "_model_module": "@jupyter-widgets/controls"
          }
        },
        "4280e70c3fdf4a5692b3cfd57e67a754": {
          "model_module": "@jupyter-widgets/base",
          "model_name": "LayoutModel",
          "model_module_version": "1.2.0",
          "state": {
            "_view_name": "LayoutView",
            "grid_template_rows": null,
            "right": null,
            "justify_content": null,
            "_view_module": "@jupyter-widgets/base",
            "overflow": null,
            "_model_module_version": "1.2.0",
            "_view_count": null,
            "flex_flow": null,
            "width": "20px",
            "min_width": null,
            "border": null,
            "align_items": null,
            "bottom": null,
            "_model_module": "@jupyter-widgets/base",
            "top": null,
            "grid_column": null,
            "overflow_y": null,
            "overflow_x": null,
            "grid_auto_flow": null,
            "grid_area": null,
            "grid_template_columns": null,
            "flex": null,
            "_model_name": "LayoutModel",
            "justify_items": null,
            "grid_row": null,
            "max_height": null,
            "align_content": null,
            "visibility": null,
            "align_self": null,
            "height": null,
            "min_height": null,
            "padding": null,
            "grid_auto_rows": null,
            "grid_gap": null,
            "max_width": null,
            "order": null,
            "_view_module_version": "1.2.0",
            "grid_template_areas": null,
            "object_position": null,
            "object_fit": null,
            "grid_auto_columns": null,
            "margin": null,
            "display": null,
            "left": null
          }
        },
        "f6d32ef6c1234d2fb4af729158598c5c": {
          "model_module": "@jupyter-widgets/controls",
          "model_name": "DescriptionStyleModel",
          "model_module_version": "1.5.0",
          "state": {
            "_view_name": "StyleView",
            "_model_name": "DescriptionStyleModel",
            "description_width": "",
            "_view_module": "@jupyter-widgets/base",
            "_model_module_version": "1.5.0",
            "_view_count": null,
            "_view_module_version": "1.2.0",
            "_model_module": "@jupyter-widgets/controls"
          }
        },
        "3184b4791ab14a14b4bb8e1a0968aa12": {
          "model_module": "@jupyter-widgets/base",
          "model_name": "LayoutModel",
          "model_module_version": "1.2.0",
          "state": {
            "_view_name": "LayoutView",
            "grid_template_rows": null,
            "right": null,
            "justify_content": null,
            "_view_module": "@jupyter-widgets/base",
            "overflow": null,
            "_model_module_version": "1.2.0",
            "_view_count": null,
            "flex_flow": null,
            "width": null,
            "min_width": null,
            "border": null,
            "align_items": null,
            "bottom": null,
            "_model_module": "@jupyter-widgets/base",
            "top": null,
            "grid_column": null,
            "overflow_y": null,
            "overflow_x": null,
            "grid_auto_flow": null,
            "grid_area": null,
            "grid_template_columns": null,
            "flex": null,
            "_model_name": "LayoutModel",
            "justify_items": null,
            "grid_row": null,
            "max_height": null,
            "align_content": null,
            "visibility": null,
            "align_self": null,
            "height": null,
            "min_height": null,
            "padding": null,
            "grid_auto_rows": null,
            "grid_gap": null,
            "max_width": null,
            "order": null,
            "_view_module_version": "1.2.0",
            "grid_template_areas": null,
            "object_position": null,
            "object_fit": null,
            "grid_auto_columns": null,
            "margin": null,
            "display": null,
            "left": null
          }
        },
        "d9e93120cef94252ab2eef498e9e1285": {
          "model_module": "@jupyter-widgets/controls",
          "model_name": "HBoxModel",
          "model_module_version": "1.5.0",
          "state": {
            "_view_name": "HBoxView",
            "_dom_classes": [],
            "_model_name": "HBoxModel",
            "_view_module": "@jupyter-widgets/controls",
            "_model_module_version": "1.5.0",
            "_view_count": null,
            "_view_module_version": "1.5.0",
            "box_style": "",
            "layout": "IPY_MODEL_98b8dfa2c55e4b3db1a8b8bb3242b980",
            "_model_module": "@jupyter-widgets/controls",
            "children": [
              "IPY_MODEL_6a9b55e2d0c44426956600254eacc1a8",
              "IPY_MODEL_c9ab2d449a984a1e8f61506018f9010c",
              "IPY_MODEL_ba61a4ba3f024749b8ab8549ddaca5f1"
            ]
          }
        },
        "98b8dfa2c55e4b3db1a8b8bb3242b980": {
          "model_module": "@jupyter-widgets/base",
          "model_name": "LayoutModel",
          "model_module_version": "1.2.0",
          "state": {
            "_view_name": "LayoutView",
            "grid_template_rows": null,
            "right": null,
            "justify_content": null,
            "_view_module": "@jupyter-widgets/base",
            "overflow": null,
            "_model_module_version": "1.2.0",
            "_view_count": null,
            "flex_flow": null,
            "width": null,
            "min_width": null,
            "border": null,
            "align_items": null,
            "bottom": null,
            "_model_module": "@jupyter-widgets/base",
            "top": null,
            "grid_column": null,
            "overflow_y": null,
            "overflow_x": null,
            "grid_auto_flow": null,
            "grid_area": null,
            "grid_template_columns": null,
            "flex": null,
            "_model_name": "LayoutModel",
            "justify_items": null,
            "grid_row": null,
            "max_height": null,
            "align_content": null,
            "visibility": null,
            "align_self": null,
            "height": null,
            "min_height": null,
            "padding": null,
            "grid_auto_rows": null,
            "grid_gap": null,
            "max_width": null,
            "order": null,
            "_view_module_version": "1.2.0",
            "grid_template_areas": null,
            "object_position": null,
            "object_fit": null,
            "grid_auto_columns": null,
            "margin": null,
            "display": null,
            "left": null
          }
        },
        "6a9b55e2d0c44426956600254eacc1a8": {
          "model_module": "@jupyter-widgets/controls",
          "model_name": "HTMLModel",
          "model_module_version": "1.5.0",
          "state": {
            "_view_name": "HTMLView",
            "style": "IPY_MODEL_be87c236e6974d869465d057503e0f32",
            "_dom_classes": [],
            "description": "",
            "_model_name": "HTMLModel",
            "placeholder": "​",
            "_view_module": "@jupyter-widgets/controls",
            "_model_module_version": "1.5.0",
            "value": "100%",
            "_view_count": null,
            "_view_module_version": "1.5.0",
            "description_tooltip": null,
            "_model_module": "@jupyter-widgets/controls",
            "layout": "IPY_MODEL_a5ea5bafa8444cbb8ded38098609d329"
          }
        },
        "c9ab2d449a984a1e8f61506018f9010c": {
          "model_module": "@jupyter-widgets/controls",
          "model_name": "FloatProgressModel",
          "model_module_version": "1.5.0",
          "state": {
            "_view_name": "ProgressView",
            "style": "IPY_MODEL_aae9f2cf268c4bdfb3e2bb237ebdd52b",
            "_dom_classes": [],
            "description": "",
            "_model_name": "FloatProgressModel",
            "bar_style": "danger",
            "max": 5476,
            "_view_module": "@jupyter-widgets/controls",
            "_model_module_version": "1.5.0",
            "value": 5475,
            "_view_count": null,
            "_view_module_version": "1.5.0",
            "orientation": "horizontal",
            "min": 0,
            "description_tooltip": null,
            "_model_module": "@jupyter-widgets/controls",
            "layout": "IPY_MODEL_49ad8c4027d1405eb603f7f516ddd6ca"
          }
        },
        "ba61a4ba3f024749b8ab8549ddaca5f1": {
          "model_module": "@jupyter-widgets/controls",
          "model_name": "HTMLModel",
          "model_module_version": "1.5.0",
          "state": {
            "_view_name": "HTMLView",
            "style": "IPY_MODEL_fbe4f449dcac4a6492d2c59a716963e9",
            "_dom_classes": [],
            "description": "",
            "_model_name": "HTMLModel",
            "placeholder": "​",
            "_view_module": "@jupyter-widgets/controls",
            "_model_module_version": "1.5.0",
            "value": " 5475/5476 [00:00&lt;00:00, 119911.72 examples/s]",
            "_view_count": null,
            "_view_module_version": "1.5.0",
            "description_tooltip": null,
            "_model_module": "@jupyter-widgets/controls",
            "layout": "IPY_MODEL_41e53f0c16044139b88e22f5bf6a0062"
          }
        },
        "be87c236e6974d869465d057503e0f32": {
          "model_module": "@jupyter-widgets/controls",
          "model_name": "DescriptionStyleModel",
          "model_module_version": "1.5.0",
          "state": {
            "_view_name": "StyleView",
            "_model_name": "DescriptionStyleModel",
            "description_width": "",
            "_view_module": "@jupyter-widgets/base",
            "_model_module_version": "1.5.0",
            "_view_count": null,
            "_view_module_version": "1.2.0",
            "_model_module": "@jupyter-widgets/controls"
          }
        },
        "a5ea5bafa8444cbb8ded38098609d329": {
          "model_module": "@jupyter-widgets/base",
          "model_name": "LayoutModel",
          "model_module_version": "1.2.0",
          "state": {
            "_view_name": "LayoutView",
            "grid_template_rows": null,
            "right": null,
            "justify_content": null,
            "_view_module": "@jupyter-widgets/base",
            "overflow": null,
            "_model_module_version": "1.2.0",
            "_view_count": null,
            "flex_flow": null,
            "width": null,
            "min_width": null,
            "border": null,
            "align_items": null,
            "bottom": null,
            "_model_module": "@jupyter-widgets/base",
            "top": null,
            "grid_column": null,
            "overflow_y": null,
            "overflow_x": null,
            "grid_auto_flow": null,
            "grid_area": null,
            "grid_template_columns": null,
            "flex": null,
            "_model_name": "LayoutModel",
            "justify_items": null,
            "grid_row": null,
            "max_height": null,
            "align_content": null,
            "visibility": null,
            "align_self": null,
            "height": null,
            "min_height": null,
            "padding": null,
            "grid_auto_rows": null,
            "grid_gap": null,
            "max_width": null,
            "order": null,
            "_view_module_version": "1.2.0",
            "grid_template_areas": null,
            "object_position": null,
            "object_fit": null,
            "grid_auto_columns": null,
            "margin": null,
            "display": null,
            "left": null
          }
        },
        "aae9f2cf268c4bdfb3e2bb237ebdd52b": {
          "model_module": "@jupyter-widgets/controls",
          "model_name": "ProgressStyleModel",
          "model_module_version": "1.5.0",
          "state": {
            "_view_name": "StyleView",
            "_model_name": "ProgressStyleModel",
            "description_width": "",
            "_view_module": "@jupyter-widgets/base",
            "_model_module_version": "1.5.0",
            "_view_count": null,
            "_view_module_version": "1.2.0",
            "bar_color": null,
            "_model_module": "@jupyter-widgets/controls"
          }
        },
        "49ad8c4027d1405eb603f7f516ddd6ca": {
          "model_module": "@jupyter-widgets/base",
          "model_name": "LayoutModel",
          "model_module_version": "1.2.0",
          "state": {
            "_view_name": "LayoutView",
            "grid_template_rows": null,
            "right": null,
            "justify_content": null,
            "_view_module": "@jupyter-widgets/base",
            "overflow": null,
            "_model_module_version": "1.2.0",
            "_view_count": null,
            "flex_flow": null,
            "width": null,
            "min_width": null,
            "border": null,
            "align_items": null,
            "bottom": null,
            "_model_module": "@jupyter-widgets/base",
            "top": null,
            "grid_column": null,
            "overflow_y": null,
            "overflow_x": null,
            "grid_auto_flow": null,
            "grid_area": null,
            "grid_template_columns": null,
            "flex": null,
            "_model_name": "LayoutModel",
            "justify_items": null,
            "grid_row": null,
            "max_height": null,
            "align_content": null,
            "visibility": null,
            "align_self": null,
            "height": null,
            "min_height": null,
            "padding": null,
            "grid_auto_rows": null,
            "grid_gap": null,
            "max_width": null,
            "order": null,
            "_view_module_version": "1.2.0",
            "grid_template_areas": null,
            "object_position": null,
            "object_fit": null,
            "grid_auto_columns": null,
            "margin": null,
            "display": null,
            "left": null
          }
        },
        "fbe4f449dcac4a6492d2c59a716963e9": {
          "model_module": "@jupyter-widgets/controls",
          "model_name": "DescriptionStyleModel",
          "model_module_version": "1.5.0",
          "state": {
            "_view_name": "StyleView",
            "_model_name": "DescriptionStyleModel",
            "description_width": "",
            "_view_module": "@jupyter-widgets/base",
            "_model_module_version": "1.5.0",
            "_view_count": null,
            "_view_module_version": "1.2.0",
            "_model_module": "@jupyter-widgets/controls"
          }
        },
        "41e53f0c16044139b88e22f5bf6a0062": {
          "model_module": "@jupyter-widgets/base",
          "model_name": "LayoutModel",
          "model_module_version": "1.2.0",
          "state": {
            "_view_name": "LayoutView",
            "grid_template_rows": null,
            "right": null,
            "justify_content": null,
            "_view_module": "@jupyter-widgets/base",
            "overflow": null,
            "_model_module_version": "1.2.0",
            "_view_count": null,
            "flex_flow": null,
            "width": null,
            "min_width": null,
            "border": null,
            "align_items": null,
            "bottom": null,
            "_model_module": "@jupyter-widgets/base",
            "top": null,
            "grid_column": null,
            "overflow_y": null,
            "overflow_x": null,
            "grid_auto_flow": null,
            "grid_area": null,
            "grid_template_columns": null,
            "flex": null,
            "_model_name": "LayoutModel",
            "justify_items": null,
            "grid_row": null,
            "max_height": null,
            "align_content": null,
            "visibility": null,
            "align_self": null,
            "height": null,
            "min_height": null,
            "padding": null,
            "grid_auto_rows": null,
            "grid_gap": null,
            "max_width": null,
            "order": null,
            "_view_module_version": "1.2.0",
            "grid_template_areas": null,
            "object_position": null,
            "object_fit": null,
            "grid_auto_columns": null,
            "margin": null,
            "display": null,
            "left": null
          }
        }
      }
    }
  },
  "cells": [
    {
      "cell_type": "markdown",
      "metadata": {
        "id": "view-in-github",
        "colab_type": "text"
      },
      "source": [
        "<a href=\"https://colab.research.google.com/github/amukhsimov/colab_notebooks/blob/master/ml_opus.ipynb\" target=\"_parent\"><img src=\"https://colab.research.google.com/assets/colab-badge.svg\" alt=\"Open In Colab\"/></a>"
      ]
    },
    {
      "cell_type": "code",
      "metadata": {
        "colab": {
          "base_uri": "https://localhost:8080/"
        },
        "id": "SLGkF5t3aGTu",
        "outputId": "55183c41-7bfb-4028-b3f2-f395a3709ba0"
      },
      "source": [
        "!pip install -q tensorflow_datasets tensorflow_addons tensorflow_text==2.6.0rc0"
      ],
      "execution_count": null,
      "outputs": [
        {
          "output_type": "stream",
          "text": [
            "\u001b[K     |████████████████████████████████| 1.1 MB 9.0 MB/s \n",
            "\u001b[K     |████████████████████████████████| 4.3 MB 44.8 MB/s \n",
            "\u001b[?25h"
          ],
          "name": "stdout"
        }
      ]
    },
    {
      "cell_type": "code",
      "metadata": {
        "colab": {
          "base_uri": "https://localhost:8080/"
        },
        "id": "e8uYsMiWl1YY",
        "outputId": "2f468907-1f59-41fb-e2e4-48aa1cf80a5c"
      },
      "source": [
        "!gsutil cp gs://bucket-eu-colab/data/ml_opus/en_ru/vocabs/ru_vocab.txt ./\n",
        "!gsutil cp gs://bucket-eu-colab/data/ml_opus/en_ru/vocabs/en_vocab.txt ./"
      ],
      "execution_count": null,
      "outputs": [
        {
          "output_type": "stream",
          "text": [
            "Copying gs://bucket-eu-colab/data/ml_opus/en_ru/vocabs/ru_vocab.txt...\n",
            "/ [1 files][213.7 KiB/213.7 KiB]                                                \n",
            "Operation completed over 1 objects/213.7 KiB.                                    \n",
            "Copying gs://bucket-eu-colab/data/ml_opus/en_ru/vocabs/en_vocab.txt...\n",
            "/ [1 files][113.0 KiB/113.0 KiB]                                                \n",
            "Operation completed over 1 objects/113.0 KiB.                                    \n"
          ],
          "name": "stdout"
        }
      ]
    },
    {
      "cell_type": "code",
      "metadata": {
        "id": "g26j0djGGFN5"
      },
      "source": [
        "!gsutil cp gs://bucket-eu-colab/data/ml_opus/en_ru/corpus.en_ru.1m.en ./\n",
        "!gsutil cp gs://bucket-eu-colab/data/ml_opus/en_ru/corpus.en_ru.1m.ru ./\n",
        "!gsutil cp gs://bucket-eu-colab/data/ml_opus/en_ru/en_tokens_30k.json ./\n",
        "!gsutil cp gs://bucket-eu-colab/data/ml_opus/en_ru/ru_tokens_30k.json ./"
      ],
      "execution_count": null,
      "outputs": []
    },
    {
      "cell_type": "code",
      "metadata": {
        "colab": {
          "base_uri": "https://localhost:8080/"
        },
        "id": "-X376VBNjVhQ",
        "outputId": "1cbd025f-1006-4500-c32d-c10ca5a242f1"
      },
      "source": [
        "!gsutil cp gs://bucket-eu-colab/data/ml_opus/en_ru/checkpoint/* ./"
      ],
      "execution_count": null,
      "outputs": [
        {
          "output_type": "stream",
          "text": [
            "Copying gs://bucket-eu-colab/data/ml_opus/en_ru/checkpoint/transformer_v1-0000.ckpt.data-00000-of-00001...\n",
            "Copying gs://bucket-eu-colab/data/ml_opus/en_ru/checkpoint/transformer_v1-0000.ckpt.index...\n",
            "\\ [2 files][764.8 MiB/764.8 MiB]   44.6 MiB/s                                   \n",
            "Operation completed over 2 objects/764.8 MiB.                                    \n"
          ],
          "name": "stdout"
        }
      ]
    },
    {
      "cell_type": "code",
      "metadata": {
        "id": "PRlhoLf3lvhH"
      },
      "source": [
        "import numpy as np\n",
        "import pandas as pd\n",
        "import cv2\n",
        "import logging\n",
        "import os\n",
        "import sys\n",
        "import pathlib\n",
        "import re\n",
        "import multiprocessing as mp\n",
        "import time\n",
        "import matplotlib.pyplot as plt\n",
        "\n",
        "import tensorflow as tf\n",
        "import tensorflow_addons as tfa\n",
        "import tensorflow_datasets as tfds\n",
        "import tensorflow_text as text\n",
        "import tensorflow.keras as keras\n",
        "import tensorflow.keras.layers as layers\n",
        "from tensorflow_text.tools.wordpiece_vocab import bert_vocab_from_dataset as bert_vocab\n",
        "\n",
        "from sklearn.model_selection import train_test_split"
      ],
      "execution_count": null,
      "outputs": []
    },
    {
      "cell_type": "code",
      "metadata": {
        "id": "1OoMFhvLq-OE"
      },
      "source": [
        "tf.config.experimental.set_memory_growth(tf.config.list_physical_devices('GPU')[0], True)"
      ],
      "execution_count": null,
      "outputs": []
    },
    {
      "cell_type": "code",
      "metadata": {
        "id": "gVMsYReZCOMi"
      },
      "source": [
        "logging.getLogger('tensorflow').setLevel(logging.ERROR)  # suppress warnings"
      ],
      "execution_count": null,
      "outputs": []
    },
    {
      "cell_type": "code",
      "metadata": {
        "id": "DA_0ayGOmCJ1"
      },
      "source": [
        "pd.options.display.width = 1000\n",
        "pd.options.display.max_columns = 14\n",
        "np.set_printoptions(edgeitems=7, linewidth=500)"
      ],
      "execution_count": null,
      "outputs": []
    },
    {
      "cell_type": "markdown",
      "metadata": {
        "id": "Ehg_QC_pbTM7"
      },
      "source": [
        "---\n",
        "###`LOAD AND PREPARE DATA:`\n",
        "---"
      ]
    },
    {
      "cell_type": "markdown",
      "metadata": {
        "id": "gD6YTOPJbZ4V"
      },
      "source": [
        "####`LOAD DATA:`"
      ]
    },
    {
      "cell_type": "code",
      "metadata": {
        "colab": {
          "base_uri": "https://localhost:8080/",
          "referenced_widgets": [
            "d06eeafd47a540dd8d1ade7d1a4b3a80",
            "afd2b2c2485b459db5a5b893292bfeb6",
            "eb721840f6ff4ccb906671fac9e6854a",
            "620425f7b8f34d3ba35f4d3202da0c18",
            "971de101dc1149aaafb1bf3c7001b60a",
            "4f18f10fb4b34ef487693fd635ceb854",
            "e475c07127af48dabf3431fa3444d659",
            "7e424836ff82486b9ae1e68587c25845",
            "990cece2e1f9472ab757e73f41d2935c",
            "703b2e818ed542d1809b3b35445fe4bb",
            "4211679199ac445ebdad5b58d87b9e32",
            "1bd23c8c372f4d8eb28185232d65723c",
            "8b6ea09c13584597b3fc18a74bf86918",
            "5f97e6b3b34541ac84ee3be25fd00d31",
            "05c7a2ce8056479591746342fc5cbe31",
            "d9dcff0393cd4d5897b15356e4bf6667",
            "29f22e5db42c4262ba6138c324712966",
            "4f49d298c40848e6b1d753eb7a7a9bc3",
            "4d9ed08f74c24e7dab64e0a80ed760c0",
            "19989db8c98d4569ac65cad7655f455e",
            "5ce40b5e538341f5919dbab6f1b36d58",
            "31a55c4a6ee0434f9ac18e92bfee9733",
            "8b73c4cb0b944472a592c7ac7fb41eea",
            "0e44e989d1d740af8970cac36866bd9a",
            "dd25c7f7658941a3b4c294be60a10e05",
            "752a6e852ecb43f5944daec8999d82a3",
            "84eb76c996674639ad09f409ba3406ee",
            "ba0e8b49fd9940b89d4efcbc54d25138",
            "d6fa924bb29a473a9158907cfa9e8413",
            "a2450378286d48d0b85641252cbc0782",
            "6936f59e7e234ac6a1cf30aa0a68076d",
            "d624745ef6cb4f928f5de0c72626fbea",
            "8b8ac006568545358e3622f5224c67d1",
            "67b1dc871e7e430f8d216fcaec746529",
            "305fab4b66dd4098955e31205698c08a",
            "52e07f62d8084b2492d09fd2daeec50c",
            "aa8b08082c6d4b519a194e4ddc96596e",
            "511b948879b1458ba97e4560a30bf534",
            "34fcc917a0f54b9a869c273392798bb8",
            "8777bd7b5a4c41d4891a3493153a36e2",
            "33aba195ee1643be9ec864a34a186dee",
            "5c67748401d549598fbc8329c86d9a2c",
            "ada00c805e71405c9029e936169f0cac",
            "0f3c2da6c06343c6a37f516bf74d6cee",
            "5a2190ba1b00455483471079b07f70d3",
            "654df664bda14e338fc18527f9fb7630",
            "0c3b2c813cf9407b8408dd52b2f7604b",
            "6e281ed6a745434e8a6c81e588272d06",
            "8cb96f4a59b14a5da82a7d802d15e1df",
            "127c4e55f0074c5ea0b84ee49a072c9b",
            "5e6ee3f179114ca5996b02b84c781c40",
            "cce560dbbd2c42f7b28d1d29b4e8269d",
            "cbb229f2f3584815be09d90221f37e71",
            "6e4ae5e2406444b3af13c32075241107",
            "067b2231f6be471fa4afb209e8208c5d",
            "02868b6f1570434385f0ab4bf1d9523d",
            "c68393c58b8c4ced87de328bc55eba62",
            "3fe622fb9f7c412593c5214bfd907b33",
            "b1ebcfeefbc24469a4cb770bcb1e3ea6",
            "154ef2f4a0bd43219c0fb869b0696bfc",
            "3c7570b902144d0a909d911fd0020457",
            "0fea3f2daa4f458b87cb0f3cf1972b3b",
            "e29a1178912f4d27b44b20d5834ff4ad",
            "a3557d993a0a4b388323bba4df92bd2f",
            "2af3cb4fad6c44549339314835c13988",
            "0baa48cc9a2e41b4a1c47842ccc53898",
            "3cbaac445eac412daef7cb8729a2f058",
            "1414a899c7d040379333f0464fbb1b98",
            "ffab09aea58e430fb48a7d79b1a9ba91",
            "bf5952a27092473fa32470cae5db0b0b",
            "54acc938a1e848069b0fe16346f0f4f9",
            "f8417c30da664f52a50aa566367b7d27",
            "afec4a1c7eb14df4aded5c746ddab2a8",
            "6b35e820ae27466f81a66f1977c5a830",
            "061bed1da94b424b9fd54bdddac30db3",
            "daf2dd61b1734a65b4b8d9261a99ce99",
            "c627f8e949b14f1ba5a905d10fbf9dec",
            "80d68bc54c404fbfa3cc2815ca30ded0",
            "a0715843b86e4a1cbc538a62bfe8200f",
            "dd1a382ae08b4256b6b6d0e1b6d07e67",
            "45b547b458074813b3674c9bbe85f917",
            "96b909306f4246ed8d13e4553e2636cb",
            "98b657b2871443ad9edd5cd82a4035e8",
            "f7482f87f0f6486ea4e40b49f1d17e20",
            "38b824eeec864e869c2e78c7c901425b",
            "4280e70c3fdf4a5692b3cfd57e67a754",
            "f6d32ef6c1234d2fb4af729158598c5c",
            "3184b4791ab14a14b4bb8e1a0968aa12",
            "d9e93120cef94252ab2eef498e9e1285",
            "98b8dfa2c55e4b3db1a8b8bb3242b980",
            "6a9b55e2d0c44426956600254eacc1a8",
            "c9ab2d449a984a1e8f61506018f9010c",
            "ba61a4ba3f024749b8ab8549ddaca5f1",
            "be87c236e6974d869465d057503e0f32",
            "a5ea5bafa8444cbb8ded38098609d329",
            "aae9f2cf268c4bdfb3e2bb237ebdd52b",
            "49ad8c4027d1405eb603f7f516ddd6ca",
            "fbe4f449dcac4a6492d2c59a716963e9",
            "41e53f0c16044139b88e22f5bf6a0062"
          ]
        },
        "id": "AoBMaNAVag-m",
        "outputId": "8200e836-8334-4877-adff-0c93c639d27d"
      },
      "source": [
        "%%time\n",
        "examples, metadata = tfds.load('ted_hrlr_translate/ru_to_en', with_info=True,\n",
        "                               as_supervised=True)\n",
        "train_examples, val_examples = examples['train'], examples['validation']\n",
        "train_en = train_examples.map(lambda ru, en: en)\n",
        "train_ru = train_examples.map(lambda ru, en: ru)"
      ],
      "execution_count": null,
      "outputs": [
        {
          "output_type": "stream",
          "text": [
            "\u001b[1mDownloading and preparing dataset ted_hrlr_translate/ru_to_en/1.0.0 (download: 124.94 MiB, generated: Unknown size, total: 124.94 MiB) to /root/tensorflow_datasets/ted_hrlr_translate/ru_to_en/1.0.0...\u001b[0m\n"
          ],
          "name": "stdout"
        },
        {
          "output_type": "display_data",
          "data": {
            "application/vnd.jupyter.widget-view+json": {
              "model_id": "d06eeafd47a540dd8d1ade7d1a4b3a80",
              "version_minor": 0,
              "version_major": 2
            },
            "text/plain": [
              "Dl Completed...: 0 url [00:00, ? url/s]"
            ]
          },
          "metadata": {}
        },
        {
          "output_type": "display_data",
          "data": {
            "application/vnd.jupyter.widget-view+json": {
              "model_id": "1bd23c8c372f4d8eb28185232d65723c",
              "version_minor": 0,
              "version_major": 2
            },
            "text/plain": [
              "Dl Size...: 0 MiB [00:00, ? MiB/s]"
            ]
          },
          "metadata": {}
        },
        {
          "output_type": "display_data",
          "data": {
            "application/vnd.jupyter.widget-view+json": {
              "model_id": "8b73c4cb0b944472a592c7ac7fb41eea",
              "version_minor": 0,
              "version_major": 2
            },
            "text/plain": [
              "Extraction completed...: 0 file [00:00, ? file/s]"
            ]
          },
          "metadata": {}
        },
        {
          "output_type": "stream",
          "text": [
            "\n",
            "\n",
            "\n"
          ],
          "name": "stdout"
        },
        {
          "output_type": "display_data",
          "data": {
            "application/vnd.jupyter.widget-view+json": {
              "model_id": "67b1dc871e7e430f8d216fcaec746529",
              "version_minor": 0,
              "version_major": 2
            },
            "text/plain": [
              "0 examples [00:00, ? examples/s]"
            ]
          },
          "metadata": {}
        },
        {
          "output_type": "stream",
          "text": [
            "Shuffling and writing examples to /root/tensorflow_datasets/ted_hrlr_translate/ru_to_en/1.0.0.incompleteOURHT2/ted_hrlr_translate-train.tfrecord\n"
          ],
          "name": "stdout"
        },
        {
          "output_type": "display_data",
          "data": {
            "application/vnd.jupyter.widget-view+json": {
              "model_id": "5a2190ba1b00455483471079b07f70d3",
              "version_minor": 0,
              "version_major": 2
            },
            "text/plain": [
              "  0%|          | 0/208106 [00:00<?, ? examples/s]"
            ]
          },
          "metadata": {}
        },
        {
          "output_type": "display_data",
          "data": {
            "application/vnd.jupyter.widget-view+json": {
              "model_id": "02868b6f1570434385f0ab4bf1d9523d",
              "version_minor": 0,
              "version_major": 2
            },
            "text/plain": [
              "0 examples [00:00, ? examples/s]"
            ]
          },
          "metadata": {}
        },
        {
          "output_type": "stream",
          "text": [
            "Shuffling and writing examples to /root/tensorflow_datasets/ted_hrlr_translate/ru_to_en/1.0.0.incompleteOURHT2/ted_hrlr_translate-validation.tfrecord\n"
          ],
          "name": "stdout"
        },
        {
          "output_type": "display_data",
          "data": {
            "application/vnd.jupyter.widget-view+json": {
              "model_id": "3cbaac445eac412daef7cb8729a2f058",
              "version_minor": 0,
              "version_major": 2
            },
            "text/plain": [
              "  0%|          | 0/4805 [00:00<?, ? examples/s]"
            ]
          },
          "metadata": {}
        },
        {
          "output_type": "display_data",
          "data": {
            "application/vnd.jupyter.widget-view+json": {
              "model_id": "80d68bc54c404fbfa3cc2815ca30ded0",
              "version_minor": 0,
              "version_major": 2
            },
            "text/plain": [
              "0 examples [00:00, ? examples/s]"
            ]
          },
          "metadata": {}
        },
        {
          "output_type": "stream",
          "text": [
            "Shuffling and writing examples to /root/tensorflow_datasets/ted_hrlr_translate/ru_to_en/1.0.0.incompleteOURHT2/ted_hrlr_translate-test.tfrecord\n"
          ],
          "name": "stdout"
        },
        {
          "output_type": "display_data",
          "data": {
            "application/vnd.jupyter.widget-view+json": {
              "model_id": "d9e93120cef94252ab2eef498e9e1285",
              "version_minor": 0,
              "version_major": 2
            },
            "text/plain": [
              "  0%|          | 0/5476 [00:00<?, ? examples/s]"
            ]
          },
          "metadata": {}
        },
        {
          "output_type": "stream",
          "text": [
            "\u001b[1mDataset ted_hrlr_translate downloaded and prepared to /root/tensorflow_datasets/ted_hrlr_translate/ru_to_en/1.0.0. Subsequent calls will reuse this data.\u001b[0m\n",
            "WARNING: AutoGraph could not transform <function <lambda> at 0x7fa2859dc200> and will run it as-is.\n",
            "Cause: could not parse the source code of <function <lambda> at 0x7fa2859dc200>: no matching AST found\n",
            "To silence this warning, decorate the function with @tf.autograph.experimental.do_not_convert\n",
            "WARNING: AutoGraph could not transform <function <lambda> at 0x7fa285d10dd0> and will run it as-is.\n",
            "Cause: could not parse the source code of <function <lambda> at 0x7fa285d10dd0>: no matching AST found\n",
            "To silence this warning, decorate the function with @tf.autograph.experimental.do_not_convert\n",
            "CPU times: user 35.5 s, sys: 1.73 s, total: 37.2 s\n",
            "Wall time: 42.6 s\n"
          ],
          "name": "stdout"
        }
      ]
    },
    {
      "cell_type": "markdown",
      "metadata": {
        "id": "pL6cY98Rbesh"
      },
      "source": [
        "####`DATA PREVIEW:`"
      ]
    },
    {
      "cell_type": "code",
      "metadata": {
        "colab": {
          "base_uri": "https://localhost:8080/"
        },
        "id": "He1VPjJCbCfw",
        "outputId": "abe28034-d223-4dfa-ed68-6cc318d57cda"
      },
      "source": [
        "for ru_examples, en_examples in train_examples.batch(3).skip(2).take(1):\n",
        "  for ru in ru_examples.numpy():\n",
        "    print(ru.decode('utf-8'))\n",
        "\n",
        "  print()\n",
        "\n",
        "  for en in en_examples.numpy():\n",
        "    print(en.decode('utf-8'))"
      ],
      "execution_count": null,
      "outputs": [
        {
          "output_type": "stream",
          "text": [
            "сталкиваем еще , и если наша теория верна , часть энергии столкновения превратится в «осколок» , который вылетит в иные измерения .\n",
            "он сравнивает все эти объекты в окне внимания и определяет наиболее значимый , наиболее интересный объект . вот почему его взгляд направляется именно на него .\n",
            "вы когда-нибудь шли из одной комнату в другую , а потом не могли вспомнить зачем ?\n",
            "\n",
            "you slam them together , and if we are right , some of the energy of that collision will go into debris that flies off into these extra dimensions .\n",
            "and it weights those together into an attention window , and it looks for the highest-scoring place — the stuff where the most interesting stuff is happening — and that is what its eyes then segue to .\n",
            "have you ever walked from one room to another and then forgotten why you 're there ?\n"
          ],
          "name": "stdout"
        }
      ]
    },
    {
      "cell_type": "markdown",
      "metadata": {
        "id": "KE6F65fb02e2"
      },
      "source": [
        "####`CREATE TOKENIZER:`"
      ]
    },
    {
      "cell_type": "code",
      "metadata": {
        "id": "U_UA_SapmHck"
      },
      "source": [
        "bert_tokenizer_params=dict(lower_case=True)\n",
        "reserved_tokens=[\"[PAD]\", \"[UNK]\", \"[START]\", \"[END]\"]\n",
        "\n",
        "bert_vocab_args = dict(\n",
        "    # The target vocabulary size\n",
        "    vocab_size = 15000,\n",
        "    # Reserved tokens that must be included in the vocabulary\n",
        "    reserved_tokens=reserved_tokens,\n",
        "    # Arguments for `text.BertTokenizer`\n",
        "    bert_tokenizer_params=bert_tokenizer_params,\n",
        "    # Arguments for `wordpiece_vocab.wordpiece_tokenizer_learner_lib.learn`\n",
        "    learn_params={},\n",
        ")"
      ],
      "execution_count": null,
      "outputs": []
    },
    {
      "cell_type": "code",
      "metadata": {
        "id": "zE-3t3unmSST"
      },
      "source": [
        "en_tokenizer = text.BertTokenizer('en_vocab.txt', **bert_tokenizer_params)\n",
        "ru_tokenizer = text.BertTokenizer('ru_vocab.txt', **bert_tokenizer_params)\n",
        "\n",
        "with open('en_vocab.txt', 'rt') as fp:\n",
        "  en_vocab = [x for x in fp.read().split('\\n') if x]\n",
        "with open('ru_vocab.txt', 'rt') as fp:\n",
        "  ru_vocab = [x for x in fp.read().split('\\n') if x]"
      ],
      "execution_count": null,
      "outputs": []
    },
    {
      "cell_type": "markdown",
      "metadata": {
        "id": "I-ftnxPLmkz3"
      },
      "source": [
        "####`ENCODING EXAMPLE:`"
      ]
    },
    {
      "cell_type": "code",
      "metadata": {
        "colab": {
          "base_uri": "https://localhost:8080/"
        },
        "id": "zUbZXA4EmqFq",
        "outputId": "819240ea-58c3-4823-c364-5d4f1e5bc35c"
      },
      "source": [
        "for ru_examples, en_examples in train_examples.batch(3).take(1):\n",
        "  for ex in en_examples:\n",
        "    print(ex.numpy())"
      ],
      "execution_count": null,
      "outputs": [
        {
          "output_type": "stream",
          "text": [
            "b'c : success , the change is only coming through the barrel of the gun .'\n",
            "b'the documentation and the hands-on teaching methodology is also open-source and released as the creative commons .'\n",
            "b\"( video ) didi pickles : it 's four o'clock in the morning .\"\n"
          ],
          "name": "stdout"
        }
      ]
    },
    {
      "cell_type": "code",
      "metadata": {
        "id": "63zS99Q2m6ln"
      },
      "source": [
        "# Tokenize the examples -> (batch, word, word-piece)\n",
        "token_batch = en_tokenizer.tokenize(en_examples)\n",
        "# Merge the word and word-piece axes -> (batch, tokens)\n",
        "token_batch = token_batch.merge_dims(-2,-1)"
      ],
      "execution_count": null,
      "outputs": []
    },
    {
      "cell_type": "code",
      "metadata": {
        "colab": {
          "base_uri": "https://localhost:8080/"
        },
        "id": "SwehBtojrExh",
        "outputId": "202d2488-f22d-452c-cbcf-7a2c1fda5002"
      },
      "source": [
        "for ex in token_batch.to_list():\n",
        "  print(ex)"
      ],
      "execution_count": null,
      "outputs": [
        {
          "output_type": "stream",
          "text": [
            "[41, 28, 1043, 14, 84, 239, 93, 197, 379, 214, 84, 5710, 87, 84, 2322, 16]\n",
            "[84, 10923, 85, 84, 673, 15, 103, 1410, 8162, 93, 185, 424, 15, 893, 85, 2372, 110, 84, 1009, 5180, 16]\n",
            "[10, 390, 11, 166, 626, 12195, 129, 28, 90, 9, 57, 307, 53, 9, 2344, 89, 84, 776, 16]\n"
          ],
          "name": "stdout"
        }
      ]
    },
    {
      "cell_type": "markdown",
      "metadata": {
        "id": "LSPhewZNRI6D"
      },
      "source": [
        "####`DECODER:`"
      ]
    },
    {
      "cell_type": "code",
      "metadata": {
        "id": "FHsVI290RNeb"
      },
      "source": [
        "def decode_en(batch):\n",
        "  words = en_tokenizer.detokenize(tf.cast(batch, tf.int32))\n",
        "  return tf.strings.reduce_join(words, separator=' ', axis=-1)\n",
        "\n",
        "def decode_ru(batch):\n",
        "  words = ru_tokenizer.detokenize(tf.cast(batch, tf.int32))\n",
        "  return tf.strings.reduce_join(words, separator=' ', axis=-1)"
      ],
      "execution_count": null,
      "outputs": []
    },
    {
      "cell_type": "markdown",
      "metadata": {
        "id": "lWpQi3DrtKQ5"
      },
      "source": [
        "####`DECODING EXAMPLE:`"
      ]
    },
    {
      "cell_type": "code",
      "metadata": {
        "colab": {
          "base_uri": "https://localhost:8080/"
        },
        "id": "Fy4Xb44Ps3t2",
        "outputId": "32ac746c-140d-4211-c222-23cb5a9eb4ff"
      },
      "source": [
        "words = en_tokenizer.detokenize(token_batch)\n",
        "tf.strings.reduce_join(words, separator=' ', axis=-1)"
      ],
      "execution_count": null,
      "outputs": [
        {
          "output_type": "execute_result",
          "data": {
            "text/plain": [
              "<tf.Tensor: shape=(3,), dtype=string, numpy=array([b'c : success , the change is only coming through the barrel of the gun .', b'the documentation and the hands - on teaching methodology is also open - source and released as the creative commons .', b\"( video ) didi pickles : it ' s four o ' clock in the morning .\"], dtype=object)>"
            ]
          },
          "metadata": {},
          "execution_count": 16
        }
      ]
    },
    {
      "cell_type": "markdown",
      "metadata": {
        "id": "eHLfLro0xmYm"
      },
      "source": [
        "####`SETUP INPUT PIPELINE:`"
      ]
    },
    {
      "cell_type": "code",
      "metadata": {
        "id": "fxFh9qLcw611"
      },
      "source": [
        "def train_prepared(ru, en):\n",
        "  inp, tar = ru, en  # (B, T), zero padded\n",
        "  inp = tf.cast(inp, tf.float32)\n",
        "  tar = tf.cast(tar, tf.float32)\n",
        "\n",
        "  _ = tf.shape(tar)\n",
        "  tar_B, tar_T = _[0], _[1]\n",
        "  T_range = tf.expand_dims(tf.range(tar_T, dtype=tf.float32), 0)  # row vector range, (1, T)\n",
        "\n",
        "  # `zero_indices` and `rnd_indices`:\n",
        "  # here we select random prefix part of the sentence for the sake of\n",
        "  # predicting just the next word\n",
        "\n",
        "  # compute the indices of first \"0\" entry of a batch (\"0\" - means [PAD] token)\n",
        "  zero_indices = tf.cast(tf.argmax(tar == 0, axis=-1), tf.float32)  # (B, )\n",
        "  zero_indices = tf.expand_dims(zero_indices, 1)  # transform to column vector, (B, 1)\n",
        "\n",
        "  # select random indices between 1. and the index of the last word (excluded)\n",
        "  rnd_indices = tf.random.uniform((tar_B, 1), 1, SENTENCE_MAX_LENGTH, dtype=tf.int32) # (B, 1)\n",
        "  rnd_indices = tf.cast(rnd_indices, tf.float32)\n",
        "  # random between 0. and `zero_indices - 1`:\n",
        "  zero_indices = rnd_indices % zero_indices\n",
        "  zero_indices = tf.maximum(1., zero_indices)  # random between 1. and `zero_indices - 1`\n",
        "  #\n",
        "  outp_mask = tf.cast(T_range < zero_indices, tf.float32)  # (B, T)\n",
        "  tar_mask = tf.cast(T_range < (zero_indices + 1.), tf.float32)  # (B, T)\n",
        "\n",
        "  return (inp, tar * outp_mask), tar * tar_mask\n",
        "\n",
        "\n",
        "def tokenize_pairs(ru, en):\n",
        "  ru = ru_tokenizer.tokenize(ru)\n",
        "  # Convert from ragged to dense, padding with zeros.\n",
        "  ru = ru.merge_dims(-2, -1).to_tensor()\n",
        "\n",
        "  en = en_tokenizer.tokenize(en)\n",
        "  # Convert from ragged to dense, padding with zeros.\n",
        "  en = en.merge_dims(-2, -1).to_tensor()\n",
        "\n",
        "  ru = tf.pad(ru, [[0,0],[0,1]], constant_values=0.)\n",
        "  en = tf.pad(en, [[0,0],[0,1]], constant_values=0.)\n",
        "\n",
        "  return ru, en"
      ],
      "execution_count": null,
      "outputs": []
    },
    {
      "cell_type": "code",
      "metadata": {
        "id": "9_bRBXVHv9Kh"
      },
      "source": [
        "BUFFER_SIZE = 500000\n",
        "BATCH_SIZE = 48\n",
        "SENTENCE_MAX_LENGTH = 500\n",
        "\n",
        "def make_batches(ds: tf.data.Dataset):\n",
        "  return (ds.cache()\n",
        "            .shuffle(BUFFER_SIZE)\n",
        "            .batch(BATCH_SIZE)\n",
        "            .map(tokenize_pairs))"
      ],
      "execution_count": null,
      "outputs": []
    },
    {
      "cell_type": "code",
      "metadata": {
        "id": "jtRPOqLgxvqV"
      },
      "source": [
        "train_batches = make_batches(train_examples)\n",
        "val_batches = make_batches(val_examples)"
      ],
      "execution_count": null,
      "outputs": []
    },
    {
      "cell_type": "markdown",
      "metadata": {
        "id": "7-vyFHke7dzw"
      },
      "source": [
        "---\n",
        "###`CREATE MODEL:`\n",
        "---"
      ]
    },
    {
      "cell_type": "markdown",
      "metadata": {
        "id": "iv0ZlTtUpCFW"
      },
      "source": [
        "##### `POSITIONAL ENCODING:`"
      ]
    },
    {
      "cell_type": "code",
      "metadata": {
        "id": "x5ZYvQf-o_lv"
      },
      "source": [
        "def get_positional_encoding(sentence_max_len, d_model):\n",
        "    positions = np.arange(sentence_max_len).reshape((-1, 1))  # reshape to column vector\n",
        "    dimensions = np.arange(d_model).reshape((1, -1))  # reshape to row vector\n",
        "    \n",
        "    angles = positions / (10000. ** ((dimensions // 2) * 2. / d_model))\n",
        "    angles[:, 0::2] = np.sin(angles[:, 0::2])\n",
        "    angles[:, 1::2] = np.cos(angles[:, 1::2])\n",
        "    \n",
        "    return np.expand_dims(angles, 0).astype(np.float32)  # (1, sentence_max_len, d_model)"
      ],
      "execution_count": null,
      "outputs": []
    },
    {
      "cell_type": "markdown",
      "metadata": {
        "id": "PxqYPJzCpGUj"
      },
      "source": [
        "##### `ENCODER-DECODER:`"
      ]
    },
    {
      "cell_type": "code",
      "metadata": {
        "id": "T5LQzHWcpEHi"
      },
      "source": [
        "class MultiHeadAttention(keras.layers.Layer):\n",
        "    def __init__(self, d_model, num_heads):\n",
        "        super(MultiHeadAttention, self).__init__()\n",
        "        self.d_model = d_model\n",
        "        self.num_heads = num_heads\n",
        "        \n",
        "        assert self.d_model % self.num_heads == 0\n",
        "        \n",
        "        self.depth = self.d_model // self.num_heads\n",
        "        \n",
        "        self.wq = keras.layers.Dense(self.d_model)\n",
        "        self.wk = keras.layers.Dense(self.d_model)\n",
        "        self.wv = keras.layers.Dense(self.d_model)\n",
        "        \n",
        "        self.linear = keras.layers.Dense(self.d_model)\n",
        "        \n",
        "    def split_heads(self, x, batch_size):\n",
        "        x = tf.reshape(x, (batch_size, -1, self.num_heads, self.depth))  # (B, T, H, D_depth)\n",
        "        return tf.transpose(x, perm=[0, 2, 1, 3])  # (B, H, T, D_depth)\n",
        "        \n",
        "    def call(self, q, k, v, mask):\n",
        "        batch_size = tf.shape(q)[0]\n",
        "        \n",
        "        q = self.wq(q)  # (B, T_q, D_model)\n",
        "        k = self.wk(k)  # (B, T_k, D_model)\n",
        "        v = self.wv(v)  # (B, T_v, D_model)\n",
        "        \n",
        "        q = self.split_heads(q, batch_size)  # (B, H, T_q, D_depth)\n",
        "        k = self.split_heads(k, batch_size)  # (B, H, T_k, D_depth)\n",
        "        v = self.split_heads(v, batch_size)  # (B, H, T_v, D_depth)\n",
        "        \n",
        "        # perform scaled dot-product attention\n",
        "        d_depth = tf.cast(tf.shape(q)[-1], tf.float32)\n",
        "        qk_filter = tf.matmul(q, k, transpose_b=True)  # (B, H, T_q, T_k)\n",
        "        qk_filter = qk_filter / tf.sqrt(d_depth)  # (B, H, T_q, T_k)\n",
        "        \n",
        "        if mask is not None:  # shape of (B, T_q)\n",
        "            mask = tf.cast(tf.equal(mask, 0.), tf.float32)\n",
        "            qk_filter -= mask * 1e9\n",
        "        \n",
        "        qk_filter = tf.nn.softmax(qk_filter)  # (B, H, T_q, T_k)\n",
        "        scaled_attention = tf.matmul(qk_filter, v)  # (B, H, T_q, D_depth)\n",
        "        scaled_attention = tf.transpose(scaled_attention, perm=[0, 2, 1, 3])  # (B, T_q, H, D_depth)\n",
        "        \n",
        "        # concat\n",
        "        concat_attention = tf.reshape(scaled_attention, (batch_size, -1, self.d_model))  # (B, T_q, D_model)\n",
        "        # linear\n",
        "        return self.linear(concat_attention)\n",
        "    \n",
        "class EncoderLayer(keras.layers.Layer):\n",
        "    def __init__(self, d_model, n_heads, dropout_rate):\n",
        "        super(EncoderLayer, self).__init__()\n",
        "        self.d_model = d_model\n",
        "        self.n_heads = n_heads\n",
        "        \n",
        "        self.mha = MultiHeadAttention(d_model, n_heads)\n",
        "        \n",
        "        self.ffw = keras.Sequential()\n",
        "        self.ffw.add(keras.layers.Dense(d_model * 4, activation='relu'))\n",
        "        self.ffw.add(keras.layers.Dense(d_model))\n",
        "        \n",
        "        self.norm1 = keras.layers.LayerNormalization()\n",
        "        self.norm2 = keras.layers.LayerNormalization()\n",
        "        \n",
        "        self.dropout1 = keras.layers.Dropout(dropout_rate)\n",
        "        self.dropout2 = keras.layers.Dropout(dropout_rate)\n",
        "        \n",
        "    def call(self, x, padding_mask):\n",
        "        x_mha = self.mha(x, x, x, padding_mask)\n",
        "        x_mha = self.norm1(x + x_mha)\n",
        "        x_mha = self.dropout1(x_mha)\n",
        "        \n",
        "        x_ffw = self.ffw(x_mha)\n",
        "        x_ffw = self.norm2(x_mha + x_ffw)\n",
        "        x_ffw = self.dropout2(x_ffw)\n",
        "        \n",
        "        return x_ffw\n",
        "    \n",
        "class DecoderLayer(keras.layers.Layer):\n",
        "    def __init__(self, d_model, n_heads, dropout_rate):\n",
        "        super(DecoderLayer, self).__init__()\n",
        "        self.d_model = d_model\n",
        "        self.n_heads = n_heads\n",
        "        \n",
        "        self.mha1 = MultiHeadAttention(d_model, n_heads)\n",
        "        self.mha2 = MultiHeadAttention(d_model, n_heads)\n",
        "        \n",
        "        self.ffw = keras.Sequential()\n",
        "        self.ffw.add(keras.layers.Dense(d_model * 4, activation='relu'))\n",
        "        self.ffw.add(keras.layers.Dense(d_model))\n",
        "        \n",
        "        self.norm1 = keras.layers.LayerNormalization()\n",
        "        self.norm2 = keras.layers.LayerNormalization()\n",
        "        self.norm3 = keras.layers.LayerNormalization()\n",
        "        \n",
        "        self.dropout1 = keras.layers.Dropout(dropout_rate)\n",
        "        self.dropout2 = keras.layers.Dropout(dropout_rate)\n",
        "        self.dropout3 = keras.layers.Dropout(dropout_rate)\n",
        "        \n",
        "    def call(self, x, enc_output, look_ahead_mask, padding_mask):\n",
        "        x_mha1 = self.mha1(x, x, x, look_ahead_mask)\n",
        "        x_mha1 = self.norm1(x + x_mha1)\n",
        "        x_mha1 = self.dropout1(x_mha1)\n",
        "        \n",
        "        x_mha2 = self.mha2(x_mha1, enc_output, enc_output, padding_mask)\n",
        "        x_mha2 = self.norm2(x_mha1 + x_mha2)\n",
        "        x_mha2 = self.dropout2(x_mha2)\n",
        "        \n",
        "        x_ffw = self.ffw(x_mha2)\n",
        "        x_ffw = self.norm2(x_mha2 + x_ffw)\n",
        "        x_ffw = self.dropout3(x_ffw)\n",
        "        \n",
        "        return x_ffw\n",
        "    \n",
        "class Encoder(keras.layers.Layer):\n",
        "    def __init__(self, d_model, n_heads, n_layers, dropout_rate):\n",
        "        super(Encoder, self).__init__()\n",
        "        self.d_model = d_model\n",
        "        self.n_heads = n_heads\n",
        "        self.n_layers = n_layers\n",
        "        \n",
        "        self.encoder_layers = [EncoderLayer(d_model, n_heads, dropout_rate) for i in range(n_layers)]\n",
        "    \n",
        "    def call(self, x, padding_mask):\n",
        "        for encoder in self.encoder_layers:\n",
        "            x = encoder(x, padding_mask)\n",
        "        return x\n",
        "\n",
        "class Decoder(keras.layers.Layer):\n",
        "    def __init__(self, d_model, n_heads, n_layers, dropout_rate):\n",
        "        super(Decoder, self).__init__()\n",
        "        self.d_model = d_model\n",
        "        self.n_heads = n_heads\n",
        "        self.n_layers = n_layers\n",
        "        \n",
        "        self.decoder_layers = [DecoderLayer(d_model, n_heads, dropout_rate) for i in range(n_layers)]\n",
        "        \n",
        "    def call(self, x, enc_output, look_ahead_mask, padding_mask):\n",
        "        for decoder in self.decoder_layers:\n",
        "            x = decoder(x, enc_output, look_ahead_mask, padding_mask)\n",
        "        return x"
      ],
      "execution_count": null,
      "outputs": []
    },
    {
      "cell_type": "markdown",
      "metadata": {
        "id": "c_kkBymECswL"
      },
      "source": [
        "#####`CUSTOM TRAINING MODEL:`"
      ]
    },
    {
      "cell_type": "markdown",
      "metadata": {
        "id": "bbvBEDJKpNGW"
      },
      "source": [
        "##### `MODEL FUNCTION:`"
      ]
    },
    {
      "cell_type": "code",
      "metadata": {
        "id": "IMKMTta2pMj6"
      },
      "source": [
        "def model_v1(num_words_l, num_words_r, sentence_max_len, dropout_rate):\n",
        "    d_model = 512\n",
        "    n_heads = 8\n",
        "    n_layers = 6\n",
        "    \n",
        "    dk = tf.cast(tf.constant(d_model), tf.float32)\n",
        "    \n",
        "    # Encoder\n",
        "    x_input = keras.Input((None, ), dtype=tf.float32)  # shape of (batch_size, T)\n",
        "    padding_mask = 1. - tf.cast(tf.equal(x_input, 0.), tf.float32)  # (B, T)\n",
        "    B, T = tf.shape(padding_mask)\n",
        "    enc_padding_mask = tf.reshape(padding_mask, (B, 1, 1, T))\n",
        "    \n",
        "    pos_encoding = tf.constant(get_positional_encoding(sentence_max_len, d_model))  # position encoding, (1, T, D_model)\n",
        "    \n",
        "    # (batch_size, T_inp, d_model)\n",
        "    x = layers.Embedding(num_words_l, d_model)(x_input)\n",
        "    x *= tf.sqrt(dk)\n",
        "    x += pos_encoding[:, :T, :]\n",
        "    \n",
        "    enc_output = Encoder(d_model, n_heads, n_layers, dropout_rate)(x, enc_padding_mask)  # (B, T_inp, D)\n",
        "    \n",
        "    # Decoder\n",
        "    x_output = keras.Input((None, ), dtype=tf.float32)  # given N words, predict next one, (B, T)\n",
        "    B, T = tf.shape(x_output)\n",
        "    # look_ahead_mask = tf.linalg.band_part(tf.ones((1, T_inp, T_inp)), -1, 0)\n",
        "    \n",
        "    # calculate look-ahead mask\n",
        "    # for example, if x_output is something like [1,4,2,0,0], then look ahead mask will be [1,1,1,1,0]\n",
        "    first_zeros = tf.expand_dims(tf.argmin(x_output, axis=-1), -1)  # column vector\n",
        "    first_zeros = tf.cast(first_zeros, tf.float32)\n",
        "    rng = tf.expand_dims(tf.range(T), 0)  # T range\n",
        "    rng = tf.cast(rng, tf.float32)\n",
        "    look_ahead_mask = tf.cast(rng <= first_zeros, tf.float32)  # (B, T). Include first zeros as well\n",
        "    look_ahead_mask = tf.reshape(look_ahead_mask, (B, 1, 1, T))  # (B, 1, 1, T_outp)\n",
        "    \n",
        "    # decoder padding mask (just crop encoders padding mask)\n",
        "    dec_padding_mask = enc_padding_mask  # (B, 1, 1, T)\n",
        "    \n",
        "    x = layers.Embedding(num_words_r, d_model)(x_output)  # (B, T, D)\n",
        "    x *= tf.sqrt(dk)\n",
        "    x += pos_encoding[:, :T, :]\n",
        "    \n",
        "    x_decode = Decoder(d_model, n_heads, n_layers, dropout_rate)(x, enc_output, look_ahead_mask, dec_padding_mask)  # (B, T, D)\n",
        "    x_final = layers.Dense(num_words_r, activation='softmax')(x_decode)  # (B, T, num_words)\n",
        "    x_final = x_final * tf.reshape(look_ahead_mask, (B, T, 1))\n",
        "    \n",
        "    return keras.Model([x_input, x_output], x_final)"
      ],
      "execution_count": null,
      "outputs": []
    },
    {
      "cell_type": "code",
      "metadata": {
        "id": "WBEoP4-jp9R5"
      },
      "source": [
        "def loss_fn(y_true, y_pred):\n",
        "    \"\"\"\n",
        "    y_true: shape of (B, T)\n",
        "    \"\"\"\n",
        "    loss_mask = 1. - tf.cast(tf.equal(y_true, 0.), tf.float32)  # shape of (B, T)\n",
        "    y_true = tf.one_hot(tf.cast(y_true, tf.int32), tf.shape(y_pred)[-1])\n",
        "    #loss = keras.losses.sparse_categorical_crossentropy(y_true, y_pred)  # shape of (B, T)\n",
        "    loss = tfa.losses.sigmoid_focal_crossentropy(y_true, y_pred)\n",
        "    loss = loss * loss_mask\n",
        "    return tf.reduce_sum(loss) / tf.cast(tf.shape(y_true)[0], tf.float32)  # mean by batch size"
      ],
      "execution_count": null,
      "outputs": []
    },
    {
      "cell_type": "markdown",
      "metadata": {
        "id": "UiriAr1ZqCCt"
      },
      "source": [
        "##### `CREATE MODEL:`"
      ]
    },
    {
      "cell_type": "code",
      "metadata": {
        "id": "RDuztvYJp_mm"
      },
      "source": [
        "dropout_rate = 0.2\n",
        "\n",
        "model = model_v1(len(ru_vocab), len(en_vocab), SENTENCE_MAX_LENGTH, dropout_rate)\n",
        "model_name = 'transformer_v1'\n",
        "\n",
        "remark = 'none'\n",
        "log_path = os.path.join('logs', model_name, remark)\n",
        "tf_writer = tf.summary.create_file_writer(log_path)\n",
        "ckpt_path = os.path.join('models_ckpt', model_name, remark)\n",
        "start_epoch = 0\n",
        "\n",
        "#model.load_weights(os.path.join(ckpt_path, f'{model_name}-0000.ckpt'))"
      ],
      "execution_count": null,
      "outputs": []
    },
    {
      "cell_type": "markdown",
      "metadata": {
        "id": "2cDt5FN93zgB"
      },
      "source": [
        "---\n",
        "###`TRAIN:`\n",
        "---"
      ]
    },
    {
      "cell_type": "markdown",
      "metadata": {
        "id": "jCCgh1JNuyq4"
      },
      "source": [
        "##### `TRAIN FUNCTION, CALLBACKS:`"
      ]
    },
    {
      "cell_type": "code",
      "metadata": {
        "id": "iNLetf5BqiZ8"
      },
      "source": [
        "def train(n_epochs, train_ds, val_ds,\n",
        "          train_steps_per_epoch=None, val_steps_per_epoch=None):\n",
        "    global start_epoch\n",
        "\n",
        "    class CbEpochIncrement(keras.callbacks.Callback):\n",
        "        def __init__(self):\n",
        "            super().__init__()\n",
        "\n",
        "        def on_epoch_end(self, epoch, logs=None):\n",
        "            global start_epoch\n",
        "            start_epoch += 1\n",
        "\n",
        "        def on_train_batch_end(self, batch, logs=None):\n",
        "            pass\n",
        "            #time.sleep(0.1)\n",
        "\n",
        "    model.fit(train_ds, epochs=start_epoch + n_epochs, \n",
        "              steps_per_epoch=train_steps_per_epoch, validation_steps=val_steps_per_epoch,\n",
        "              callbacks=callbacks + [CbEpochIncrement()], validation_data=val_ds,\n",
        "              initial_epoch=start_epoch, workers=3)\n",
        "\n",
        "\n",
        "def get_callbacks():\n",
        "    callback_tb = keras.callbacks.TensorBoard(log_dir=log_path)\n",
        "    cb_ckpt_last = keras.callbacks.ModelCheckpoint(\n",
        "        os.path.join(ckpt_path, f'{model_name}-last.ckpt'),\n",
        "        save_weights_only=True, save_best_only=False\n",
        "    )\n",
        "    cb_ckpt_best = keras.callbacks.ModelCheckpoint(\n",
        "        os.path.join(ckpt_path, f'{model_name}-best.ckpt'), monitor='val_loss', mode='min',\n",
        "        save_weights_only=True, save_best_only=True\n",
        "    )\n",
        "    cb_lr_schedule = keras.callbacks.LearningRateScheduler(lr_schedule)\n",
        "    return [\n",
        "        cb_lr_schedule, callback_tb, #cb_ckpt_last, cb_ckpt_best, \n",
        "    ]\n",
        "\n",
        "\n",
        "def lr_schedule(epoch, lr):\n",
        "    return lr\n",
        "    #if 0 <= epoch <= 10:\n",
        "    #    return 1e-3\n",
        "    #elif 11 <= epoch <= 47:\n",
        "    #    return 5e-4\n",
        "    #elif 48 <= epoch <= 60:\n",
        "    #    return 1e-4\n",
        "    #else:\n",
        "    #    return 1e-5"
      ],
      "execution_count": null,
      "outputs": []
    },
    {
      "cell_type": "markdown",
      "metadata": {
        "id": "x1wL18ww32kR"
      },
      "source": [
        "####`PREPARE FOR TRAINING:`"
      ]
    },
    {
      "cell_type": "code",
      "metadata": {
        "id": "v4CY8i1Qu1E8"
      },
      "source": [
        "model.compile(keras.optimizers.Adam(1e-3), loss_fn)"
      ],
      "execution_count": null,
      "outputs": []
    },
    {
      "cell_type": "code",
      "metadata": {
        "id": "wCRmvSWpvsla"
      },
      "source": [
        "callbacks = get_callbacks()\n",
        "start_epoch = 0"
      ],
      "execution_count": null,
      "outputs": []
    },
    {
      "cell_type": "markdown",
      "metadata": {
        "id": "gDEbgvDD38ly"
      },
      "source": [
        "####`TRAINING:`"
      ]
    },
    {
      "cell_type": "code",
      "metadata": {
        "colab": {
          "base_uri": "https://localhost:8080/"
        },
        "id": "Hh3v4fj-BSQs",
        "outputId": "d1cd7934-d2c4-46af-b3b1-9bc702b8b05d"
      },
      "source": [
        "model.load_weights(f'{model_name}-0000.ckpt')"
      ],
      "execution_count": null,
      "outputs": [
        {
          "output_type": "execute_result",
          "data": {
            "text/plain": [
              "<tensorflow.python.training.tracking.util.CheckpointLoadStatus at 0x7fa27c053650>"
            ]
          },
          "metadata": {},
          "execution_count": 28
        }
      ]
    },
    {
      "cell_type": "code",
      "metadata": {
        "id": "80Ai7BGwvuTr"
      },
      "source": [
        "train(n_epochs=200, \n",
        "      train_ds=train_batches.repeat().map(train_prepared), \n",
        "      val_ds=val_batches.repeat().map(train_prepared),\n",
        "      train_steps_per_epoch=train_batches.__len__().numpy(),\n",
        "      val_steps_per_epoch=val_batches.__len__().numpy())"
      ],
      "execution_count": null,
      "outputs": []
    },
    {
      "cell_type": "code",
      "metadata": {
        "id": "cLgBNY9CBT8e"
      },
      "source": [
        "model.save_weights(f'{model_name}-0000.ckpt')"
      ],
      "execution_count": null,
      "outputs": []
    },
    {
      "cell_type": "code",
      "metadata": {
        "id": "oJCF1OmNvwmA"
      },
      "source": [
        "!gsutil cp ./transformer_v1-0000* gs://bucket-eu-colab/data/ml_opus/en_ru/checkpoint/"
      ],
      "execution_count": null,
      "outputs": []
    },
    {
      "cell_type": "markdown",
      "metadata": {
        "id": "BiYRyBQIZUqJ"
      },
      "source": [
        "####`TESTING:`"
      ]
    },
    {
      "cell_type": "markdown",
      "metadata": {
        "id": "9o9G-qyvZZuc"
      },
      "source": [
        "#####`PREPARE THE DATA:`"
      ]
    },
    {
      "cell_type": "code",
      "metadata": {
        "id": "v8pY5GSWP-TG"
      },
      "source": [
        "train_ds=train_batches.unbatch().batch(1).repeat().map(train_prepared)"
      ],
      "execution_count": null,
      "outputs": []
    },
    {
      "cell_type": "markdown",
      "metadata": {
        "id": "cTdqrY0yZd4x"
      },
      "source": [
        "#####`EVALUATE:`"
      ]
    },
    {
      "cell_type": "code",
      "metadata": {
        "id": "Ii8gWmTEQVru"
      },
      "source": [
        "(inp, outp), y = train_ds.take(1).get_single_element()\n",
        "y_hat = tf.argmax(model.predict([inp, outp]), axis=-1)"
      ],
      "execution_count": null,
      "outputs": []
    },
    {
      "cell_type": "code",
      "metadata": {
        "id": "R3VSp33zZx9c"
      },
      "source": [
        "text_inp = decode_ru(inp).numpy()[0].decode('utf8')\n",
        "text_outp = decode_en(outp).numpy()[0].decode('utf8')\n",
        "text_y = decode_en(y).numpy()[0].decode('utf8')\n",
        "text_yhat = decode_en(y_hat).numpy()[0].decode('utf8')"
      ],
      "execution_count": null,
      "outputs": []
    },
    {
      "cell_type": "markdown",
      "metadata": {
        "id": "9aLxRg0XZhnL"
      },
      "source": [
        "#####`PRINT RESULTS:`"
      ]
    },
    {
      "cell_type": "code",
      "metadata": {
        "id": "IiMzkEsRTSbw"
      },
      "source": [
        "print(f\"Input text: {text_inp}\")\n",
        "print()\n",
        "print(f\"Outp text: {text_outp}\")\n",
        "print()\n",
        "print(f\"Target text: {text_y}\")\n",
        "print()\n",
        "print(f\"Predicted text: {text_yhat}\")"
      ],
      "execution_count": null,
      "outputs": []
    }
  ]
}